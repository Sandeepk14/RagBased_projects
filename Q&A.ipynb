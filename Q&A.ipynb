{
 "cells": [
  {
   "cell_type": "code",
   "execution_count": 9,
   "metadata": {},
   "outputs": [],
   "source": [
    "from langchain_community.document_loaders import PyPDFLoader\n"
   ]
  },
  {
   "cell_type": "code",
   "execution_count": 10,
   "metadata": {},
   "outputs": [
    {
     "data": {
      "text/plain": [
       "[Document(metadata={'producer': 'pdfTeX-1.40.25', 'creator': 'LaTeX with hyperref', 'creationdate': '2025-02-10T09:40:26+00:00', 'author': '', 'keywords': '', 'moddate': '2025-02-10T09:40:26+00:00', 'ptex.fullbanner': 'This is pdfTeX, Version 3.141592653-2.6-1.40.25 (TeX Live 2023) kpathsea version 6.3.5', 'subject': '', 'title': '', 'trapped': '/False', 'source': 'LatestResume_GenAI_SK.pdf', 'total_pages': 1, 'page': 0, 'page_label': '1'}, page_content='Sandeep Kumar\\n♂phone9305525008 — /linkedinsandeepkumar — /githubSandeepk14 — /envel⌢peskraj5873@gmail.com — /user-circlePortfolio\\nSummary — Aspiring Data Scientist with practical experience in Machine Learning and Data Analysis. Gained hands-on\\nexpertise during a 6-month internship at Jupiter AI Lab, working with Python and its robust data libraries (Pandas, NumPy ,\\nMatplotlib, and Seaborn) for model building and EDA (Exploratory Data Analysis). Proficient in SQL, BI tools like Power BI,\\nand Excel for effective data management and visualization.\\nSkills\\nLanguages: Python,Java, SQL\\nLibraries: Pandas, NumPy , Matplotlib,SckiteLearn Seaborn, Flask, TensorFlow\\nGenerative AI: Hugging Face Transformers, LangChain, Rag, Fine Tunning, FastAPI\\nTools: Git, Github, Power BI, Excel, Vs Code, Anaconda, Jupyter Notebook, Google Colab\\nTechniques: ML, DL, Data Analysis, Model Building, EDA, Data Manipulation, Analyzing Large Datasets\\nSoft Skills: Communication Skills, Presentation Skills, Hard-Working, Problem-Solving\\nExperience\\nMachine Learning Intern Aug 2024 – Currently Working\\nJupiter AI Lab Onsite- Noida\\n– Enhanced data visualization by designing dynamic dashboards and reports in Power BI, which led to improved data\\ninterpretation and actionable insights.\\n– Streamlined data workflows Automating routine data extraction and cleaning processes, resulting in a 40 percent\\nreduction in manual effort and increased efficiency .\\n– Applied statistical techniques and machine learning algorithms to analyze complex datasets, providing predictive\\ninsights and supporting strategic planning.\\n– Gained hands-on experience with model training, evaluation, and feature engineering, contributing to real-world\\nprojects and supporting data-driven decision-making.\\nEducation\\nDegree Institute Board / University CGPA/Percentage Year\\nB.Tech IT Rajkiya Engineering College, Azamgarh AKTU 7.0 CGPA 2024\\nSenior Secondary Bal Krishna I C Khatirpur, Ghazipur UP Board 75.20% 2019\\nMatriculation S R D A H S S Bhajayatilari, Ghazipur UP Board 84.12% 2017\\nProjects\\nOnline Written Examination System Using Machine Learning and Blockchain Mar 2024\\nMajor Project (B.tech)\\n– Implementing an Online Written Examination System using Blockchain and Machine Learning with the MERN stack ensures\\nsecure, tamper-proof exam records and intelligent evaluation.\\n– Blockchain guarantees data integrity, while ML algorithms enhance the evaluation process by providing smart analytics and\\npersonalized feedback.\\nHouse Price Prediction Aug 2024\\nReal Time Mini Project Github\\n– Data Preprocessing: Experience with data cleaning, normalization, feature engineering, and handling missing values.\\n– Model Selection and Evaluation: Various regression algorithms (linear , ridge, lasso, decision trees, random forests, etc.) and\\nevaluation metrics (MSE, RMSE, MAE, R-squared).\\nText Summrization Gen AI Project Feb 2025\\nMini Project Github\\n– Developed a text summarization model using transformers like BART/GPT to generate concise summaries from long-form\\ntext.\\n– Fine-tuned a pre-trained transformer model on a custom dataset to improve summarization quality.\\n– Model Evaluation: Performed evaluation using ROUGE and BLEU scores to measure summarization accuracy.')]"
      ]
     },
     "execution_count": 10,
     "metadata": {},
     "output_type": "execute_result"
    }
   ],
   "source": [
    "# load the pdf file\n",
    "loader = PyPDFLoader(\"LatestResume_GenAI_SK.pdf\")\n",
    "documents = loader.load()\n",
    "documents"
   ]
  },
  {
   "cell_type": "code",
   "execution_count": 12,
   "metadata": {},
   "outputs": [
    {
     "data": {
      "text/plain": [
       "[Document(metadata={'producer': 'pdfTeX-1.40.25', 'creator': 'LaTeX with hyperref', 'creationdate': '2025-02-10T09:40:26+00:00', 'author': '', 'keywords': '', 'moddate': '2025-02-10T09:40:26+00:00', 'ptex.fullbanner': 'This is pdfTeX, Version 3.141592653-2.6-1.40.25 (TeX Live 2023) kpathsea version 6.3.5', 'subject': '', 'title': '', 'trapped': '/False', 'source': 'LatestResume_GenAI_SK.pdf', 'total_pages': 1, 'page': 0, 'page_label': '1'}, page_content='Sandeep Kumar\\n♂phone9305525008 — /linkedinsandeepkumar — /githubSandeepk14 — /envel⌢peskraj5873@gmail.com — /user-circlePortfolio\\nSummary — Aspiring Data Scientist with practical experience in Machine Learning and Data Analysis. Gained hands-on\\nexpertise during a 6-month internship at Jupiter AI Lab, working with Python and its robust data libraries (Pandas, NumPy ,\\nMatplotlib, and Seaborn) for model building and EDA (Exploratory Data Analysis). Proficient in SQL, BI tools like Power BI,\\nand Excel for effective data management and visualization.\\nSkills\\nLanguages: Python,Java, SQL\\nLibraries: Pandas, NumPy , Matplotlib,SckiteLearn Seaborn, Flask, TensorFlow\\nGenerative AI: Hugging Face Transformers, LangChain, Rag, Fine Tunning, FastAPI\\nTools: Git, Github, Power BI, Excel, Vs Code, Anaconda, Jupyter Notebook, Google Colab\\nTechniques: ML, DL, Data Analysis, Model Building, EDA, Data Manipulation, Analyzing Large Datasets\\nSoft Skills: Communication Skills, Presentation Skills, Hard-Working, Problem-Solving\\nExperience\\nMachine Learning Intern Aug 2024 – Currently Working\\nJupiter AI Lab Onsite- Noida\\n– Enhanced data visualization by designing dynamic dashboards and reports in Power BI, which led to improved data\\ninterpretation and actionable insights.\\n– Streamlined data workflows Automating routine data extraction and cleaning processes, resulting in a 40 percent\\nreduction in manual effort and increased efficiency .\\n– Applied statistical techniques and machine learning algorithms to analyze complex datasets, providing predictive\\ninsights and supporting strategic planning.\\n– Gained hands-on experience with model training, evaluation, and feature engineering, contributing to real-world\\nprojects and supporting data-driven decision-making.\\nEducation\\nDegree Institute Board / University CGPA/Percentage Year\\nB.Tech IT Rajkiya Engineering College, Azamgarh AKTU 7.0 CGPA 2024\\nSenior Secondary Bal Krishna I C Khatirpur, Ghazipur UP Board 75.20% 2019\\nMatriculation S R D A H S S Bhajayatilari, Ghazipur UP Board 84.12% 2017\\nProjects\\nOnline Written Examination System Using Machine Learning and Blockchain Mar 2024\\nMajor Project (B.tech)\\n– Implementing an Online Written Examination System using Blockchain and Machine Learning with the MERN stack ensures\\nsecure, tamper-proof exam records and intelligent evaluation.\\n– Blockchain guarantees data integrity, while ML algorithms enhance the evaluation process by providing smart analytics and\\npersonalized feedback.\\nHouse Price Prediction Aug 2024\\nReal Time Mini Project Github\\n– Data Preprocessing: Experience with data cleaning, normalization, feature engineering, and handling missing values.\\n– Model Selection and Evaluation: Various regression algorithms (linear , ridge, lasso, decision trees, random forests, etc.) and\\nevaluation metrics (MSE, RMSE, MAE, R-squared).\\nText Summrization Gen AI Project Feb 2025\\nMini Project Github\\n– Developed a text summarization model using transformers like BART/GPT to generate concise summaries from long-form\\ntext.\\n– Fine-tuned a pre-trained transformer model on a custom dataset to improve summarization quality.\\n– Model Evaluation: Performed evaluation using ROUGE and BLEU scores to measure summarization accuracy.')]"
      ]
     },
     "execution_count": 12,
     "metadata": {},
     "output_type": "execute_result"
    }
   ],
   "source": [
    "loader.load()\n",
    "documents"
   ]
  },
  {
   "cell_type": "code",
   "execution_count": 15,
   "metadata": {},
   "outputs": [],
   "source": [
    "# data transformation with recursive character text splitter\n",
    "from langchain.text_splitter import RecursiveCharacterTextSplitter\n",
    "\n",
    "text_splitter = RecursiveCharacterTextSplitter(\n",
    "    chunk_size=1000,\n",
    "    chunk_overlap=200,\n",
    ")\n",
    "\n",
    " "
   ]
  },
  {
   "cell_type": "code",
   "execution_count": 16,
   "metadata": {},
   "outputs": [
    {
     "data": {
      "text/plain": [
       "<langchain_text_splitters.character.RecursiveCharacterTextSplitter at 0x1be358ae9a0>"
      ]
     },
     "execution_count": 16,
     "metadata": {},
     "output_type": "execute_result"
    }
   ],
   "source": [
    "text_splitter"
   ]
  },
  {
   "cell_type": "code",
   "execution_count": 17,
   "metadata": {},
   "outputs": [
    {
     "data": {
      "text/plain": [
       "[Document(metadata={'producer': 'pdfTeX-1.40.25', 'creator': 'LaTeX with hyperref', 'creationdate': '2025-02-10T09:40:26+00:00', 'author': '', 'keywords': '', 'moddate': '2025-02-10T09:40:26+00:00', 'ptex.fullbanner': 'This is pdfTeX, Version 3.141592653-2.6-1.40.25 (TeX Live 2023) kpathsea version 6.3.5', 'subject': '', 'title': '', 'trapped': '/False', 'source': 'LatestResume_GenAI_SK.pdf', 'total_pages': 1, 'page': 0, 'page_label': '1'}, page_content='Sandeep Kumar\\n♂phone9305525008 — /linkedinsandeepkumar — /githubSandeepk14 — /envel⌢peskraj5873@gmail.com — /user-circlePortfolio\\nSummary — Aspiring Data Scientist with practical experience in Machine Learning and Data Analysis. Gained hands-on\\nexpertise during a 6-month internship at Jupiter AI Lab, working with Python and its robust data libraries (Pandas, NumPy ,\\nMatplotlib, and Seaborn) for model building and EDA (Exploratory Data Analysis). Proficient in SQL, BI tools like Power BI,\\nand Excel for effective data management and visualization.\\nSkills\\nLanguages: Python,Java, SQL\\nLibraries: Pandas, NumPy , Matplotlib,SckiteLearn Seaborn, Flask, TensorFlow\\nGenerative AI: Hugging Face Transformers, LangChain, Rag, Fine Tunning, FastAPI\\nTools: Git, Github, Power BI, Excel, Vs Code, Anaconda, Jupyter Notebook, Google Colab\\nTechniques: ML, DL, Data Analysis, Model Building, EDA, Data Manipulation, Analyzing Large Datasets'),\n",
       " Document(metadata={'producer': 'pdfTeX-1.40.25', 'creator': 'LaTeX with hyperref', 'creationdate': '2025-02-10T09:40:26+00:00', 'author': '', 'keywords': '', 'moddate': '2025-02-10T09:40:26+00:00', 'ptex.fullbanner': 'This is pdfTeX, Version 3.141592653-2.6-1.40.25 (TeX Live 2023) kpathsea version 6.3.5', 'subject': '', 'title': '', 'trapped': '/False', 'source': 'LatestResume_GenAI_SK.pdf', 'total_pages': 1, 'page': 0, 'page_label': '1'}, page_content='Tools: Git, Github, Power BI, Excel, Vs Code, Anaconda, Jupyter Notebook, Google Colab\\nTechniques: ML, DL, Data Analysis, Model Building, EDA, Data Manipulation, Analyzing Large Datasets\\nSoft Skills: Communication Skills, Presentation Skills, Hard-Working, Problem-Solving\\nExperience\\nMachine Learning Intern Aug 2024 – Currently Working\\nJupiter AI Lab Onsite- Noida\\n– Enhanced data visualization by designing dynamic dashboards and reports in Power BI, which led to improved data\\ninterpretation and actionable insights.\\n– Streamlined data workflows Automating routine data extraction and cleaning processes, resulting in a 40 percent\\nreduction in manual effort and increased efficiency .\\n– Applied statistical techniques and machine learning algorithms to analyze complex datasets, providing predictive\\ninsights and supporting strategic planning.\\n– Gained hands-on experience with model training, evaluation, and feature engineering, contributing to real-world'),\n",
       " Document(metadata={'producer': 'pdfTeX-1.40.25', 'creator': 'LaTeX with hyperref', 'creationdate': '2025-02-10T09:40:26+00:00', 'author': '', 'keywords': '', 'moddate': '2025-02-10T09:40:26+00:00', 'ptex.fullbanner': 'This is pdfTeX, Version 3.141592653-2.6-1.40.25 (TeX Live 2023) kpathsea version 6.3.5', 'subject': '', 'title': '', 'trapped': '/False', 'source': 'LatestResume_GenAI_SK.pdf', 'total_pages': 1, 'page': 0, 'page_label': '1'}, page_content='insights and supporting strategic planning.\\n– Gained hands-on experience with model training, evaluation, and feature engineering, contributing to real-world\\nprojects and supporting data-driven decision-making.\\nEducation\\nDegree Institute Board / University CGPA/Percentage Year\\nB.Tech IT Rajkiya Engineering College, Azamgarh AKTU 7.0 CGPA 2024\\nSenior Secondary Bal Krishna I C Khatirpur, Ghazipur UP Board 75.20% 2019\\nMatriculation S R D A H S S Bhajayatilari, Ghazipur UP Board 84.12% 2017\\nProjects\\nOnline Written Examination System Using Machine Learning and Blockchain Mar 2024\\nMajor Project (B.tech)\\n– Implementing an Online Written Examination System using Blockchain and Machine Learning with the MERN stack ensures\\nsecure, tamper-proof exam records and intelligent evaluation.\\n– Blockchain guarantees data integrity, while ML algorithms enhance the evaluation process by providing smart analytics and\\npersonalized feedback.\\nHouse Price Prediction Aug 2024\\nReal Time Mini Project Github'),\n",
       " Document(metadata={'producer': 'pdfTeX-1.40.25', 'creator': 'LaTeX with hyperref', 'creationdate': '2025-02-10T09:40:26+00:00', 'author': '', 'keywords': '', 'moddate': '2025-02-10T09:40:26+00:00', 'ptex.fullbanner': 'This is pdfTeX, Version 3.141592653-2.6-1.40.25 (TeX Live 2023) kpathsea version 6.3.5', 'subject': '', 'title': '', 'trapped': '/False', 'source': 'LatestResume_GenAI_SK.pdf', 'total_pages': 1, 'page': 0, 'page_label': '1'}, page_content='personalized feedback.\\nHouse Price Prediction Aug 2024\\nReal Time Mini Project Github\\n– Data Preprocessing: Experience with data cleaning, normalization, feature engineering, and handling missing values.\\n– Model Selection and Evaluation: Various regression algorithms (linear , ridge, lasso, decision trees, random forests, etc.) and\\nevaluation metrics (MSE, RMSE, MAE, R-squared).\\nText Summrization Gen AI Project Feb 2025\\nMini Project Github\\n– Developed a text summarization model using transformers like BART/GPT to generate concise summaries from long-form\\ntext.\\n– Fine-tuned a pre-trained transformer model on a custom dataset to improve summarization quality.\\n– Model Evaluation: Performed evaluation using ROUGE and BLEU scores to measure summarization accuracy.')]"
      ]
     },
     "execution_count": 17,
     "metadata": {},
     "output_type": "execute_result"
    }
   ],
   "source": [
    "text_splitter.split_documents(documents)"
   ]
  },
  {
   "cell_type": "code",
   "execution_count": null,
   "metadata": {},
   "outputs": [],
   "source": [
    "%pip install langchain_chroma langchain_google_genai\n",
    "\n",
    "from langchain_chroma import Chroma\n",
    "from langchain_google_genai import GoogleGenerativeAIEmbeddings\n"
   ]
  },
  {
   "cell_type": "code",
   "execution_count": null,
   "metadata": {},
   "outputs": [
    {
     "data": {
      "text/plain": [
       "True"
      ]
     },
     "execution_count": 20,
     "metadata": {},
     "output_type": "execute_result"
    }
   ],
   "source": [
    "# load env variables\n",
    "import os\n",
    "from dotenv import load_dotenv\n",
    "\n",
    "load_dotenv()\n",
    "\n"
   ]
  },
  {
   "cell_type": "code",
   "execution_count": 34,
   "metadata": {},
   "outputs": [],
   "source": [
    "from langchain_chroma import Chroma\n",
    "from langchain_google_genai import GoogleGenerativeAIEmbeddings"
   ]
  },
  {
   "cell_type": "code",
   "execution_count": 35,
   "metadata": {},
   "outputs": [
    {
     "data": {
      "text/plain": [
       "True"
      ]
     },
     "execution_count": 35,
     "metadata": {},
     "output_type": "execute_result"
    }
   ],
   "source": [
    "from dotenv import load_dotenv\n",
    "load_dotenv()"
   ]
  },
  {
   "cell_type": "code",
   "execution_count": null,
   "metadata": {},
   "outputs": [],
   "source": [
    "# create and store embeddings in Chroma\n",
    "embeddings = GoogleGenerativeAIEmbeddings(\n",
    "    model=\"models/embedding-001\",\n",
    "    temperature=0.01,\n",
    "    max_output_tokens=512,\n",
    ")\n",
    "vectorstore = Chroma.from_documents(\n",
    "    documents,\n",
    "    embeddings,\n",
    "    persist_directory=\"chroma\",\n",
    ")"
   ]
  },
  {
   "cell_type": "code",
   "execution_count": 41,
   "metadata": {},
   "outputs": [],
   "source": [
    "# retrieve the stored embeddings\n",
    "retriever = vectorstore.as_retriever(search_type=\"similarity\",search_kwargs={\"k\": 10})\n",
    "# retriever.get_relevant_documents(\"What is my name?\")"
   ]
  },
  {
   "cell_type": "code",
   "execution_count": 43,
   "metadata": {},
   "outputs": [
    {
     "name": "stderr",
     "output_type": "stream",
     "text": [
      "Number of requested results 10 is greater than number of elements in index 1, updating n_results = 1\n"
     ]
    }
   ],
   "source": [
    "\n",
    "retrieved_docs = retriever.invoke(\"what is my name?\")\n",
    "\n"
   ]
  },
  {
   "cell_type": "code",
   "execution_count": 44,
   "metadata": {},
   "outputs": [
    {
     "data": {
      "text/plain": [
       "[Document(id='d897de1a-ef6a-42e0-aafe-2141ff4e3b2c', metadata={'author': '', 'creationdate': '2025-02-10T09:40:26+00:00', 'creator': 'LaTeX with hyperref', 'keywords': '', 'moddate': '2025-02-10T09:40:26+00:00', 'page': 0, 'page_label': '1', 'producer': 'pdfTeX-1.40.25', 'ptex.fullbanner': 'This is pdfTeX, Version 3.141592653-2.6-1.40.25 (TeX Live 2023) kpathsea version 6.3.5', 'source': 'LatestResume_GenAI_SK.pdf', 'subject': '', 'title': '', 'total_pages': 1, 'trapped': '/False'}, page_content='Sandeep Kumar\\n♂phone9305525008 — /linkedinsandeepkumar — /githubSandeepk14 — /envel⌢peskraj5873@gmail.com — /user-circlePortfolio\\nSummary — Aspiring Data Scientist with practical experience in Machine Learning and Data Analysis. Gained hands-on\\nexpertise during a 6-month internship at Jupiter AI Lab, working with Python and its robust data libraries (Pandas, NumPy ,\\nMatplotlib, and Seaborn) for model building and EDA (Exploratory Data Analysis). Proficient in SQL, BI tools like Power BI,\\nand Excel for effective data management and visualization.\\nSkills\\nLanguages: Python,Java, SQL\\nLibraries: Pandas, NumPy , Matplotlib,SckiteLearn Seaborn, Flask, TensorFlow\\nGenerative AI: Hugging Face Transformers, LangChain, Rag, Fine Tunning, FastAPI\\nTools: Git, Github, Power BI, Excel, Vs Code, Anaconda, Jupyter Notebook, Google Colab\\nTechniques: ML, DL, Data Analysis, Model Building, EDA, Data Manipulation, Analyzing Large Datasets\\nSoft Skills: Communication Skills, Presentation Skills, Hard-Working, Problem-Solving\\nExperience\\nMachine Learning Intern Aug 2024 – Currently Working\\nJupiter AI Lab Onsite- Noida\\n– Enhanced data visualization by designing dynamic dashboards and reports in Power BI, which led to improved data\\ninterpretation and actionable insights.\\n– Streamlined data workflows Automating routine data extraction and cleaning processes, resulting in a 40 percent\\nreduction in manual effort and increased efficiency .\\n– Applied statistical techniques and machine learning algorithms to analyze complex datasets, providing predictive\\ninsights and supporting strategic planning.\\n– Gained hands-on experience with model training, evaluation, and feature engineering, contributing to real-world\\nprojects and supporting data-driven decision-making.\\nEducation\\nDegree Institute Board / University CGPA/Percentage Year\\nB.Tech IT Rajkiya Engineering College, Azamgarh AKTU 7.0 CGPA 2024\\nSenior Secondary Bal Krishna I C Khatirpur, Ghazipur UP Board 75.20% 2019\\nMatriculation S R D A H S S Bhajayatilari, Ghazipur UP Board 84.12% 2017\\nProjects\\nOnline Written Examination System Using Machine Learning and Blockchain Mar 2024\\nMajor Project (B.tech)\\n– Implementing an Online Written Examination System using Blockchain and Machine Learning with the MERN stack ensures\\nsecure, tamper-proof exam records and intelligent evaluation.\\n– Blockchain guarantees data integrity, while ML algorithms enhance the evaluation process by providing smart analytics and\\npersonalized feedback.\\nHouse Price Prediction Aug 2024\\nReal Time Mini Project Github\\n– Data Preprocessing: Experience with data cleaning, normalization, feature engineering, and handling missing values.\\n– Model Selection and Evaluation: Various regression algorithms (linear , ridge, lasso, decision trees, random forests, etc.) and\\nevaluation metrics (MSE, RMSE, MAE, R-squared).\\nText Summrization Gen AI Project Feb 2025\\nMini Project Github\\n– Developed a text summarization model using transformers like BART/GPT to generate concise summaries from long-form\\ntext.\\n– Fine-tuned a pre-trained transformer model on a custom dataset to improve summarization quality.\\n– Model Evaluation: Performed evaluation using ROUGE and BLEU scores to measure summarization accuracy.')]"
      ]
     },
     "execution_count": 44,
     "metadata": {},
     "output_type": "execute_result"
    }
   ],
   "source": [
    "retrieved_docs"
   ]
  },
  {
   "cell_type": "code",
   "execution_count": 46,
   "metadata": {},
   "outputs": [
    {
     "data": {
      "text/plain": [
       "'Sandeep Kumar\\n♂phone9305525008 — /linkedinsandeepkumar — /githubSandeepk14 — /envel⌢peskraj5873@gmail.com — /user-circlePortfolio\\nSummary — Aspiring Data Scientist with practical experience in Machine Learning and Data Analysis. Gained hands-on\\nexpertise during a 6-month internship at Jupiter AI Lab, working with Python and its robust data libraries (Pandas, NumPy ,\\nMatplotlib, and Seaborn) for model building and EDA (Exploratory Data Analysis). Proficient in SQL, BI tools like Power BI,\\nand Excel for effective data management and visualization.\\nSkills\\nLanguages: Python,Java, SQL\\nLibraries: Pandas, NumPy , Matplotlib,SckiteLearn Seaborn, Flask, TensorFlow\\nGenerative AI: Hugging Face Transformers, LangChain, Rag, Fine Tunning, FastAPI\\nTools: Git, Github, Power BI, Excel, Vs Code, Anaconda, Jupyter Notebook, Google Colab\\nTechniques: ML, DL, Data Analysis, Model Building, EDA, Data Manipulation, Analyzing Large Datasets\\nSoft Skills: Communication Skills, Presentation Skills, Hard-Working, Problem-Solving\\nExperience\\nMachine Learning Intern Aug 2024 – Currently Working\\nJupiter AI Lab Onsite- Noida\\n– Enhanced data visualization by designing dynamic dashboards and reports in Power BI, which led to improved data\\ninterpretation and actionable insights.\\n– Streamlined data workflows Automating routine data extraction and cleaning processes, resulting in a 40 percent\\nreduction in manual effort and increased efficiency .\\n– Applied statistical techniques and machine learning algorithms to analyze complex datasets, providing predictive\\ninsights and supporting strategic planning.\\n– Gained hands-on experience with model training, evaluation, and feature engineering, contributing to real-world\\nprojects and supporting data-driven decision-making.\\nEducation\\nDegree Institute Board / University CGPA/Percentage Year\\nB.Tech IT Rajkiya Engineering College, Azamgarh AKTU 7.0 CGPA 2024\\nSenior Secondary Bal Krishna I C Khatirpur, Ghazipur UP Board 75.20% 2019\\nMatriculation S R D A H S S Bhajayatilari, Ghazipur UP Board 84.12% 2017\\nProjects\\nOnline Written Examination System Using Machine Learning and Blockchain Mar 2024\\nMajor Project (B.tech)\\n– Implementing an Online Written Examination System using Blockchain and Machine Learning with the MERN stack ensures\\nsecure, tamper-proof exam records and intelligent evaluation.\\n– Blockchain guarantees data integrity, while ML algorithms enhance the evaluation process by providing smart analytics and\\npersonalized feedback.\\nHouse Price Prediction Aug 2024\\nReal Time Mini Project Github\\n– Data Preprocessing: Experience with data cleaning, normalization, feature engineering, and handling missing values.\\n– Model Selection and Evaluation: Various regression algorithms (linear , ridge, lasso, decision trees, random forests, etc.) and\\nevaluation metrics (MSE, RMSE, MAE, R-squared).\\nText Summrization Gen AI Project Feb 2025\\nMini Project Github\\n– Developed a text summarization model using transformers like BART/GPT to generate concise summaries from long-form\\ntext.\\n– Fine-tuned a pre-trained transformer model on a custom dataset to improve summarization quality.\\n– Model Evaluation: Performed evaluation using ROUGE and BLEU scores to measure summarization accuracy.'"
      ]
     },
     "execution_count": 46,
     "metadata": {},
     "output_type": "execute_result"
    }
   ],
   "source": [
    "retrieved_docs[0].page_content\n"
   ]
  },
  {
   "cell_type": "code",
   "execution_count": 80,
   "metadata": {},
   "outputs": [],
   "source": [
    "# use llm model to generate answer\n",
    "from langchain_google_genai import ChatGoogleGenerativeAI\n",
    "llm = ChatGoogleGenerativeAI(\n",
    "    model=\"gemini-1.5-pro\",\n",
    "    temperature=0.01,\n",
    "    max_output_tokens=512,\n",
    ")"
   ]
  },
  {
   "cell_type": "code",
   "execution_count": 81,
   "metadata": {},
   "outputs": [],
   "source": [
    "\n",
    "\n",
    "# create chain\n",
    "from langchain.chains import create_retrieval_chain\n",
    "from langchain.chains.combine_documents import create_stuff_documents_chain\n",
    "\n",
    "from langchain_core.prompts import ChatPromptTemplate"
   ]
  },
  {
   "cell_type": "code",
   "execution_count": 82,
   "metadata": {},
   "outputs": [],
   "source": [
    "# create prompt\n",
    "prompt_template =( \"You are a helpful assistant. You will be provided with some context and a question.\"\n",
    "                   \"Use the context to answer the question.\"\n",
    "                   \"the questions. If you don't know the answer, just say 'I don't know'.\"\n",
    "                   \"use three sentences to answer the question.\"\n",
    "                   \"concise and clear answer.\"\n",
    "                   \"\\n\\n\"\n",
    "                   \"Context: {context}\"\n",
    ")\n"
   ]
  },
  {
   "cell_type": "code",
   "execution_count": 83,
   "metadata": {},
   "outputs": [],
   "source": [
    "prompt=ChatPromptTemplate.from_messages([(\"system\", prompt_template),\n",
    "                                         (\"human\", \"{input}\")])"
   ]
  },
  {
   "cell_type": "code",
   "execution_count": 84,
   "metadata": {},
   "outputs": [],
   "source": [
    "chain= create_stuff_documents_chain(llm=llm, prompt=prompt)\n"
   ]
  },
  {
   "cell_type": "code",
   "execution_count": 85,
   "metadata": {},
   "outputs": [],
   "source": [
    "rag_chain = create_retrieval_chain(\n",
    "    retriever=retriever,\n",
    "    combine_docs_chain=chain,\n",
    "    \n",
    ")"
   ]
  },
  {
   "cell_type": "code",
   "execution_count": 86,
   "metadata": {},
   "outputs": [
    {
     "name": "stderr",
     "output_type": "stream",
     "text": [
      "Number of requested results 10 is greater than number of elements in index 1, updating n_results = 1\n"
     ]
    }
   ],
   "source": [
    "response = rag_chain.invoke({\"input\": \"what is my name?\"})"
   ]
  },
  {
   "cell_type": "code",
   "execution_count": 88,
   "metadata": {},
   "outputs": [
    {
     "name": "stdout",
     "output_type": "stream",
     "text": [
      "Your name is Sandeep Kumar.  This is stated at the very beginning of the provided context. You also list your contact information and online presence.\n"
     ]
    }
   ],
   "source": [
    "print(response['answer'])"
   ]
  },
  {
   "cell_type": "code",
   "execution_count": null,
   "metadata": {},
   "outputs": [],
   "source": []
  },
  {
   "cell_type": "code",
   "execution_count": null,
   "metadata": {},
   "outputs": [],
   "source": []
  }
 ],
 "metadata": {
  "kernelspec": {
   "display_name": "Python 3",
   "language": "python",
   "name": "python3"
  },
  "language_info": {
   "codemirror_mode": {
    "name": "ipython",
    "version": 3
   },
   "file_extension": ".py",
   "mimetype": "text/x-python",
   "name": "python",
   "nbconvert_exporter": "python",
   "pygments_lexer": "ipython3",
   "version": "3.9.21"
  }
 },
 "nbformat": 4,
 "nbformat_minor": 2
}
