{
 "cells": [
  {
   "cell_type": "code",
   "execution_count": 9,
   "metadata": {},
   "outputs": [],
   "source": [
    "from langchain_community.document_loaders import PyPDFLoader\n"
   ]
  },
  {
   "cell_type": "code",
   "execution_count": 10,
   "metadata": {},
   "outputs": [
    {
     "data": {
      "text/plain": [
       "[Document(metadata={'producer': 'pdfTeX-1.40.25', 'creator': 'LaTeX with hyperref', 'creationdate': '2025-02-10T09:40:26+00:00', 'author': '', 'keywords': '', 'moddate': '2025-02-10T09:40:26+00:00', 'ptex.fullbanner': 'This is pdfTeX, Version 3.141592653-2.6-1.40.25 (TeX Live 2023) kpathsea version 6.3.5', 'subject': '', 'title': '', 'trapped': '/False', 'source': 'LatestResume_GenAI_SK.pdf', 'total_pages': 1, 'page': 0, 'page_label': '1'}, page_content='Sandeep Kumar\\n♂phone9305525008 — /linkedinsandeepkumar — /githubSandeepk14 — /envel⌢peskraj5873@gmail.com — /user-circlePortfolio\\nSummary — Aspiring Data Scientist with practical experience in Machine Learning and Data Analysis. Gained hands-on\\nexpertise during a 6-month internship at Jupiter AI Lab, working with Python and its robust data libraries (Pandas, NumPy ,\\nMatplotlib, and Seaborn) for model building and EDA (Exploratory Data Analysis). Proficient in SQL, BI tools like Power BI,\\nand Excel for effective data management and visualization.\\nSkills\\nLanguages: Python,Java, SQL\\nLibraries: Pandas, NumPy , Matplotlib,SckiteLearn Seaborn, Flask, TensorFlow\\nGenerative AI: Hugging Face Transformers, LangChain, Rag, Fine Tunning, FastAPI\\nTools: Git, Github, Power BI, Excel, Vs Code, Anaconda, Jupyter Notebook, Google Colab\\nTechniques: ML, DL, Data Analysis, Model Building, EDA, Data Manipulation, Analyzing Large Datasets\\nSoft Skills: Communication Skills, Presentation Skills, Hard-Working, Problem-Solving\\nExperience\\nMachine Learning Intern Aug 2024 – Currently Working\\nJupiter AI Lab Onsite- Noida\\n– Enhanced data visualization by designing dynamic dashboards and reports in Power BI, which led to improved data\\ninterpretation and actionable insights.\\n– Streamlined data workflows Automating routine data extraction and cleaning processes, resulting in a 40 percent\\nreduction in manual effort and increased efficiency .\\n– Applied statistical techniques and machine learning algorithms to analyze complex datasets, providing predictive\\ninsights and supporting strategic planning.\\n– Gained hands-on experience with model training, evaluation, and feature engineering, contributing to real-world\\nprojects and supporting data-driven decision-making.\\nEducation\\nDegree Institute Board / University CGPA/Percentage Year\\nB.Tech IT Rajkiya Engineering College, Azamgarh AKTU 7.0 CGPA 2024\\nSenior Secondary Bal Krishna I C Khatirpur, Ghazipur UP Board 75.20% 2019\\nMatriculation S R D A H S S Bhajayatilari, Ghazipur UP Board 84.12% 2017\\nProjects\\nOnline Written Examination System Using Machine Learning and Blockchain Mar 2024\\nMajor Project (B.tech)\\n– Implementing an Online Written Examination System using Blockchain and Machine Learning with the MERN stack ensures\\nsecure, tamper-proof exam records and intelligent evaluation.\\n– Blockchain guarantees data integrity, while ML algorithms enhance the evaluation process by providing smart analytics and\\npersonalized feedback.\\nHouse Price Prediction Aug 2024\\nReal Time Mini Project Github\\n– Data Preprocessing: Experience with data cleaning, normalization, feature engineering, and handling missing values.\\n– Model Selection and Evaluation: Various regression algorithms (linear , ridge, lasso, decision trees, random forests, etc.) and\\nevaluation metrics (MSE, RMSE, MAE, R-squared).\\nText Summrization Gen AI Project Feb 2025\\nMini Project Github\\n– Developed a text summarization model using transformers like BART/GPT to generate concise summaries from long-form\\ntext.\\n– Fine-tuned a pre-trained transformer model on a custom dataset to improve summarization quality.\\n– Model Evaluation: Performed evaluation using ROUGE and BLEU scores to measure summarization accuracy.')]"
      ]
     },
     "execution_count": 10,
     "metadata": {},
     "output_type": "execute_result"
    }
   ],
   "source": [
    "# load the pdf file\n",
    "loader = PyPDFLoader(\"LatestResume_GenAI_SK.pdf\")\n",
    "documents = loader.load()\n",
    "documents"
   ]
  },
  {
   "cell_type": "code",
   "execution_count": 12,
   "metadata": {},
   "outputs": [
    {
     "data": {
      "text/plain": [
       "[Document(metadata={'producer': 'pdfTeX-1.40.25', 'creator': 'LaTeX with hyperref', 'creationdate': '2025-02-10T09:40:26+00:00', 'author': '', 'keywords': '', 'moddate': '2025-02-10T09:40:26+00:00', 'ptex.fullbanner': 'This is pdfTeX, Version 3.141592653-2.6-1.40.25 (TeX Live 2023) kpathsea version 6.3.5', 'subject': '', 'title': '', 'trapped': '/False', 'source': 'LatestResume_GenAI_SK.pdf', 'total_pages': 1, 'page': 0, 'page_label': '1'}, page_content='Sandeep Kumar\\n♂phone9305525008 — /linkedinsandeepkumar — /githubSandeepk14 — /envel⌢peskraj5873@gmail.com — /user-circlePortfolio\\nSummary — Aspiring Data Scientist with practical experience in Machine Learning and Data Analysis. Gained hands-on\\nexpertise during a 6-month internship at Jupiter AI Lab, working with Python and its robust data libraries (Pandas, NumPy ,\\nMatplotlib, and Seaborn) for model building and EDA (Exploratory Data Analysis). Proficient in SQL, BI tools like Power BI,\\nand Excel for effective data management and visualization.\\nSkills\\nLanguages: Python,Java, SQL\\nLibraries: Pandas, NumPy , Matplotlib,SckiteLearn Seaborn, Flask, TensorFlow\\nGenerative AI: Hugging Face Transformers, LangChain, Rag, Fine Tunning, FastAPI\\nTools: Git, Github, Power BI, Excel, Vs Code, Anaconda, Jupyter Notebook, Google Colab\\nTechniques: ML, DL, Data Analysis, Model Building, EDA, Data Manipulation, Analyzing Large Datasets\\nSoft Skills: Communication Skills, Presentation Skills, Hard-Working, Problem-Solving\\nExperience\\nMachine Learning Intern Aug 2024 – Currently Working\\nJupiter AI Lab Onsite- Noida\\n– Enhanced data visualization by designing dynamic dashboards and reports in Power BI, which led to improved data\\ninterpretation and actionable insights.\\n– Streamlined data workflows Automating routine data extraction and cleaning processes, resulting in a 40 percent\\nreduction in manual effort and increased efficiency .\\n– Applied statistical techniques and machine learning algorithms to analyze complex datasets, providing predictive\\ninsights and supporting strategic planning.\\n– Gained hands-on experience with model training, evaluation, and feature engineering, contributing to real-world\\nprojects and supporting data-driven decision-making.\\nEducation\\nDegree Institute Board / University CGPA/Percentage Year\\nB.Tech IT Rajkiya Engineering College, Azamgarh AKTU 7.0 CGPA 2024\\nSenior Secondary Bal Krishna I C Khatirpur, Ghazipur UP Board 75.20% 2019\\nMatriculation S R D A H S S Bhajayatilari, Ghazipur UP Board 84.12% 2017\\nProjects\\nOnline Written Examination System Using Machine Learning and Blockchain Mar 2024\\nMajor Project (B.tech)\\n– Implementing an Online Written Examination System using Blockchain and Machine Learning with the MERN stack ensures\\nsecure, tamper-proof exam records and intelligent evaluation.\\n– Blockchain guarantees data integrity, while ML algorithms enhance the evaluation process by providing smart analytics and\\npersonalized feedback.\\nHouse Price Prediction Aug 2024\\nReal Time Mini Project Github\\n– Data Preprocessing: Experience with data cleaning, normalization, feature engineering, and handling missing values.\\n– Model Selection and Evaluation: Various regression algorithms (linear , ridge, lasso, decision trees, random forests, etc.) and\\nevaluation metrics (MSE, RMSE, MAE, R-squared).\\nText Summrization Gen AI Project Feb 2025\\nMini Project Github\\n– Developed a text summarization model using transformers like BART/GPT to generate concise summaries from long-form\\ntext.\\n– Fine-tuned a pre-trained transformer model on a custom dataset to improve summarization quality.\\n– Model Evaluation: Performed evaluation using ROUGE and BLEU scores to measure summarization accuracy.')]"
      ]
     },
     "execution_count": 12,
     "metadata": {},
     "output_type": "execute_result"
    }
   ],
   "source": [
    "loader.load()\n",
    "documents"
   ]
  },
  {
   "cell_type": "code",
   "execution_count": 15,
   "metadata": {},
   "outputs": [],
   "source": [
    "# data transformation with recursive character text splitter\n",
    "from langchain.text_splitter import RecursiveCharacterTextSplitter\n",
    "\n",
    "text_splitter = RecursiveCharacterTextSplitter(\n",
    "    chunk_size=1000,\n",
    "    chunk_overlap=200,\n",
    ")\n",
    "\n",
    " "
   ]
  },
  {
   "cell_type": "code",
   "execution_count": 16,
   "metadata": {},
   "outputs": [
    {
     "data": {
      "text/plain": [
       "<langchain_text_splitters.character.RecursiveCharacterTextSplitter at 0x1be358ae9a0>"
      ]
     },
     "execution_count": 16,
     "metadata": {},
     "output_type": "execute_result"
    }
   ],
   "source": [
    "text_splitter"
   ]
  },
  {
   "cell_type": "code",
   "execution_count": 17,
   "metadata": {},
   "outputs": [
    {
     "data": {
      "text/plain": [
       "[Document(metadata={'producer': 'pdfTeX-1.40.25', 'creator': 'LaTeX with hyperref', 'creationdate': '2025-02-10T09:40:26+00:00', 'author': '', 'keywords': '', 'moddate': '2025-02-10T09:40:26+00:00', 'ptex.fullbanner': 'This is pdfTeX, Version 3.141592653-2.6-1.40.25 (TeX Live 2023) kpathsea version 6.3.5', 'subject': '', 'title': '', 'trapped': '/False', 'source': 'LatestResume_GenAI_SK.pdf', 'total_pages': 1, 'page': 0, 'page_label': '1'}, page_content='Sandeep Kumar\\n♂phone9305525008 — /linkedinsandeepkumar — /githubSandeepk14 — /envel⌢peskraj5873@gmail.com — /user-circlePortfolio\\nSummary — Aspiring Data Scientist with practical experience in Machine Learning and Data Analysis. Gained hands-on\\nexpertise during a 6-month internship at Jupiter AI Lab, working with Python and its robust data libraries (Pandas, NumPy ,\\nMatplotlib, and Seaborn) for model building and EDA (Exploratory Data Analysis). Proficient in SQL, BI tools like Power BI,\\nand Excel for effective data management and visualization.\\nSkills\\nLanguages: Python,Java, SQL\\nLibraries: Pandas, NumPy , Matplotlib,SckiteLearn Seaborn, Flask, TensorFlow\\nGenerative AI: Hugging Face Transformers, LangChain, Rag, Fine Tunning, FastAPI\\nTools: Git, Github, Power BI, Excel, Vs Code, Anaconda, Jupyter Notebook, Google Colab\\nTechniques: ML, DL, Data Analysis, Model Building, EDA, Data Manipulation, Analyzing Large Datasets'),\n",
       " Document(metadata={'producer': 'pdfTeX-1.40.25', 'creator': 'LaTeX with hyperref', 'creationdate': '2025-02-10T09:40:26+00:00', 'author': '', 'keywords': '', 'moddate': '2025-02-10T09:40:26+00:00', 'ptex.fullbanner': 'This is pdfTeX, Version 3.141592653-2.6-1.40.25 (TeX Live 2023) kpathsea version 6.3.5', 'subject': '', 'title': '', 'trapped': '/False', 'source': 'LatestResume_GenAI_SK.pdf', 'total_pages': 1, 'page': 0, 'page_label': '1'}, page_content='Tools: Git, Github, Power BI, Excel, Vs Code, Anaconda, Jupyter Notebook, Google Colab\\nTechniques: ML, DL, Data Analysis, Model Building, EDA, Data Manipulation, Analyzing Large Datasets\\nSoft Skills: Communication Skills, Presentation Skills, Hard-Working, Problem-Solving\\nExperience\\nMachine Learning Intern Aug 2024 – Currently Working\\nJupiter AI Lab Onsite- Noida\\n– Enhanced data visualization by designing dynamic dashboards and reports in Power BI, which led to improved data\\ninterpretation and actionable insights.\\n– Streamlined data workflows Automating routine data extraction and cleaning processes, resulting in a 40 percent\\nreduction in manual effort and increased efficiency .\\n– Applied statistical techniques and machine learning algorithms to analyze complex datasets, providing predictive\\ninsights and supporting strategic planning.\\n– Gained hands-on experience with model training, evaluation, and feature engineering, contributing to real-world'),\n",
       " Document(metadata={'producer': 'pdfTeX-1.40.25', 'creator': 'LaTeX with hyperref', 'creationdate': '2025-02-10T09:40:26+00:00', 'author': '', 'keywords': '', 'moddate': '2025-02-10T09:40:26+00:00', 'ptex.fullbanner': 'This is pdfTeX, Version 3.141592653-2.6-1.40.25 (TeX Live 2023) kpathsea version 6.3.5', 'subject': '', 'title': '', 'trapped': '/False', 'source': 'LatestResume_GenAI_SK.pdf', 'total_pages': 1, 'page': 0, 'page_label': '1'}, page_content='insights and supporting strategic planning.\\n– Gained hands-on experience with model training, evaluation, and feature engineering, contributing to real-world\\nprojects and supporting data-driven decision-making.\\nEducation\\nDegree Institute Board / University CGPA/Percentage Year\\nB.Tech IT Rajkiya Engineering College, Azamgarh AKTU 7.0 CGPA 2024\\nSenior Secondary Bal Krishna I C Khatirpur, Ghazipur UP Board 75.20% 2019\\nMatriculation S R D A H S S Bhajayatilari, Ghazipur UP Board 84.12% 2017\\nProjects\\nOnline Written Examination System Using Machine Learning and Blockchain Mar 2024\\nMajor Project (B.tech)\\n– Implementing an Online Written Examination System using Blockchain and Machine Learning with the MERN stack ensures\\nsecure, tamper-proof exam records and intelligent evaluation.\\n– Blockchain guarantees data integrity, while ML algorithms enhance the evaluation process by providing smart analytics and\\npersonalized feedback.\\nHouse Price Prediction Aug 2024\\nReal Time Mini Project Github'),\n",
       " Document(metadata={'producer': 'pdfTeX-1.40.25', 'creator': 'LaTeX with hyperref', 'creationdate': '2025-02-10T09:40:26+00:00', 'author': '', 'keywords': '', 'moddate': '2025-02-10T09:40:26+00:00', 'ptex.fullbanner': 'This is pdfTeX, Version 3.141592653-2.6-1.40.25 (TeX Live 2023) kpathsea version 6.3.5', 'subject': '', 'title': '', 'trapped': '/False', 'source': 'LatestResume_GenAI_SK.pdf', 'total_pages': 1, 'page': 0, 'page_label': '1'}, page_content='personalized feedback.\\nHouse Price Prediction Aug 2024\\nReal Time Mini Project Github\\n– Data Preprocessing: Experience with data cleaning, normalization, feature engineering, and handling missing values.\\n– Model Selection and Evaluation: Various regression algorithms (linear , ridge, lasso, decision trees, random forests, etc.) and\\nevaluation metrics (MSE, RMSE, MAE, R-squared).\\nText Summrization Gen AI Project Feb 2025\\nMini Project Github\\n– Developed a text summarization model using transformers like BART/GPT to generate concise summaries from long-form\\ntext.\\n– Fine-tuned a pre-trained transformer model on a custom dataset to improve summarization quality.\\n– Model Evaluation: Performed evaluation using ROUGE and BLEU scores to measure summarization accuracy.')]"
      ]
     },
     "execution_count": 17,
     "metadata": {},
     "output_type": "execute_result"
    }
   ],
   "source": [
    "text_splitter.split_documents(documents)"
   ]
  },
  {
   "cell_type": "code",
   "execution_count": 19,
   "metadata": {},
   "outputs": [
    {
     "name": "stdout",
     "output_type": "stream",
     "text": [
      "Collecting langchain_chromaNote: you may need to restart the kernel to use updated packages.\n",
      "\n",
      "  Downloading langchain_chroma-0.2.2-py3-none-any.whl.metadata (1.3 kB)\n",
      "Requirement already satisfied: langchain_google_genai in c:\\users\\dsittc\\.conda\\envs\\rag_project_env\\lib\\site-packages (2.0.11)\n",
      "Requirement already satisfied: langchain-core!=0.3.0,!=0.3.1,!=0.3.10,!=0.3.11,!=0.3.12,!=0.3.13,!=0.3.14,!=0.3.2,!=0.3.3,!=0.3.4,!=0.3.5,!=0.3.6,!=0.3.7,!=0.3.8,!=0.3.9,<0.4.0,>=0.2.43 in c:\\users\\dsittc\\.conda\\envs\\rag_project_env\\lib\\site-packages (from langchain_chroma) (0.3.40)\n",
      "Requirement already satisfied: numpy<2.0.0,>=1.22.4 in c:\\users\\dsittc\\.conda\\envs\\rag_project_env\\lib\\site-packages (from langchain_chroma) (1.26.4)\n",
      "Requirement already satisfied: chromadb!=0.5.10,!=0.5.11,!=0.5.12,!=0.5.4,!=0.5.5,!=0.5.7,!=0.5.9,<0.7.0,>=0.4.0 in c:\\users\\dsittc\\.conda\\envs\\rag_project_env\\lib\\site-packages (from langchain_chroma) (0.6.3)\n",
      "Requirement already satisfied: filetype<2.0.0,>=1.2.0 in c:\\users\\dsittc\\.conda\\envs\\rag_project_env\\lib\\site-packages (from langchain_google_genai) (1.2.0)\n",
      "Requirement already satisfied: google-ai-generativelanguage<0.7.0,>=0.6.16 in c:\\users\\dsittc\\.conda\\envs\\rag_project_env\\lib\\site-packages (from langchain_google_genai) (0.6.16)\n",
      "Requirement already satisfied: pydantic<3,>=2 in c:\\users\\dsittc\\.conda\\envs\\rag_project_env\\lib\\site-packages (from langchain_google_genai) (2.10.6)\n",
      "Requirement already satisfied: build>=1.0.3 in c:\\users\\dsittc\\.conda\\envs\\rag_project_env\\lib\\site-packages (from chromadb!=0.5.10,!=0.5.11,!=0.5.12,!=0.5.4,!=0.5.5,!=0.5.7,!=0.5.9,<0.7.0,>=0.4.0->langchain_chroma) (1.2.2.post1)\n",
      "Requirement already satisfied: chroma-hnswlib==0.7.6 in c:\\users\\dsittc\\.conda\\envs\\rag_project_env\\lib\\site-packages (from chromadb!=0.5.10,!=0.5.11,!=0.5.12,!=0.5.4,!=0.5.5,!=0.5.7,!=0.5.9,<0.7.0,>=0.4.0->langchain_chroma) (0.7.6)\n",
      "Requirement already satisfied: fastapi>=0.95.2 in c:\\users\\dsittc\\.conda\\envs\\rag_project_env\\lib\\site-packages (from chromadb!=0.5.10,!=0.5.11,!=0.5.12,!=0.5.4,!=0.5.5,!=0.5.7,!=0.5.9,<0.7.0,>=0.4.0->langchain_chroma) (0.115.8)\n",
      "Requirement already satisfied: uvicorn>=0.18.3 in c:\\users\\dsittc\\.conda\\envs\\rag_project_env\\lib\\site-packages (from uvicorn[standard]>=0.18.3->chromadb!=0.5.10,!=0.5.11,!=0.5.12,!=0.5.4,!=0.5.5,!=0.5.7,!=0.5.9,<0.7.0,>=0.4.0->langchain_chroma) (0.34.0)\n",
      "Requirement already satisfied: posthog>=2.4.0 in c:\\users\\dsittc\\.conda\\envs\\rag_project_env\\lib\\site-packages (from chromadb!=0.5.10,!=0.5.11,!=0.5.12,!=0.5.4,!=0.5.5,!=0.5.7,!=0.5.9,<0.7.0,>=0.4.0->langchain_chroma) (3.16.0)\n",
      "Requirement already satisfied: typing_extensions>=4.5.0 in c:\\users\\dsittc\\.conda\\envs\\rag_project_env\\lib\\site-packages (from chromadb!=0.5.10,!=0.5.11,!=0.5.12,!=0.5.4,!=0.5.5,!=0.5.7,!=0.5.9,<0.7.0,>=0.4.0->langchain_chroma) (4.12.2)\n",
      "Requirement already satisfied: onnxruntime>=1.14.1 in c:\\users\\dsittc\\.conda\\envs\\rag_project_env\\lib\\site-packages (from chromadb!=0.5.10,!=0.5.11,!=0.5.12,!=0.5.4,!=0.5.5,!=0.5.7,!=0.5.9,<0.7.0,>=0.4.0->langchain_chroma) (1.19.2)\n",
      "Requirement already satisfied: opentelemetry-api>=1.2.0 in c:\\users\\dsittc\\.conda\\envs\\rag_project_env\\lib\\site-packages (from chromadb!=0.5.10,!=0.5.11,!=0.5.12,!=0.5.4,!=0.5.5,!=0.5.7,!=0.5.9,<0.7.0,>=0.4.0->langchain_chroma) (1.30.0)\n",
      "Requirement already satisfied: opentelemetry-exporter-otlp-proto-grpc>=1.2.0 in c:\\users\\dsittc\\.conda\\envs\\rag_project_env\\lib\\site-packages (from chromadb!=0.5.10,!=0.5.11,!=0.5.12,!=0.5.4,!=0.5.5,!=0.5.7,!=0.5.9,<0.7.0,>=0.4.0->langchain_chroma) (1.30.0)\n",
      "Requirement already satisfied: opentelemetry-instrumentation-fastapi>=0.41b0 in c:\\users\\dsittc\\.conda\\envs\\rag_project_env\\lib\\site-packages (from chromadb!=0.5.10,!=0.5.11,!=0.5.12,!=0.5.4,!=0.5.5,!=0.5.7,!=0.5.9,<0.7.0,>=0.4.0->langchain_chroma) (0.51b0)\n",
      "Requirement already satisfied: opentelemetry-sdk>=1.2.0 in c:\\users\\dsittc\\.conda\\envs\\rag_project_env\\lib\\site-packages (from chromadb!=0.5.10,!=0.5.11,!=0.5.12,!=0.5.4,!=0.5.5,!=0.5.7,!=0.5.9,<0.7.0,>=0.4.0->langchain_chroma) (1.30.0)\n",
      "Requirement already satisfied: tokenizers>=0.13.2 in c:\\users\\dsittc\\.conda\\envs\\rag_project_env\\lib\\site-packages (from chromadb!=0.5.10,!=0.5.11,!=0.5.12,!=0.5.4,!=0.5.5,!=0.5.7,!=0.5.9,<0.7.0,>=0.4.0->langchain_chroma) (0.21.0)\n",
      "Requirement already satisfied: pypika>=0.48.9 in c:\\users\\dsittc\\.conda\\envs\\rag_project_env\\lib\\site-packages (from chromadb!=0.5.10,!=0.5.11,!=0.5.12,!=0.5.4,!=0.5.5,!=0.5.7,!=0.5.9,<0.7.0,>=0.4.0->langchain_chroma) (0.48.9)\n",
      "Requirement already satisfied: tqdm>=4.65.0 in c:\\users\\dsittc\\.conda\\envs\\rag_project_env\\lib\\site-packages (from chromadb!=0.5.10,!=0.5.11,!=0.5.12,!=0.5.4,!=0.5.5,!=0.5.7,!=0.5.9,<0.7.0,>=0.4.0->langchain_chroma) (4.67.1)\n",
      "Requirement already satisfied: overrides>=7.3.1 in c:\\users\\dsittc\\.conda\\envs\\rag_project_env\\lib\\site-packages (from chromadb!=0.5.10,!=0.5.11,!=0.5.12,!=0.5.4,!=0.5.5,!=0.5.7,!=0.5.9,<0.7.0,>=0.4.0->langchain_chroma) (7.7.0)\n",
      "Requirement already satisfied: importlib-resources in c:\\users\\dsittc\\.conda\\envs\\rag_project_env\\lib\\site-packages (from chromadb!=0.5.10,!=0.5.11,!=0.5.12,!=0.5.4,!=0.5.5,!=0.5.7,!=0.5.9,<0.7.0,>=0.4.0->langchain_chroma) (6.5.2)\n",
      "Requirement already satisfied: grpcio>=1.58.0 in c:\\users\\dsittc\\.conda\\envs\\rag_project_env\\lib\\site-packages (from chromadb!=0.5.10,!=0.5.11,!=0.5.12,!=0.5.4,!=0.5.5,!=0.5.7,!=0.5.9,<0.7.0,>=0.4.0->langchain_chroma) (1.71.0rc2)\n",
      "Requirement already satisfied: bcrypt>=4.0.1 in c:\\users\\dsittc\\.conda\\envs\\rag_project_env\\lib\\site-packages (from chromadb!=0.5.10,!=0.5.11,!=0.5.12,!=0.5.4,!=0.5.5,!=0.5.7,!=0.5.9,<0.7.0,>=0.4.0->langchain_chroma) (4.2.1)\n",
      "Requirement already satisfied: typer>=0.9.0 in c:\\users\\dsittc\\.conda\\envs\\rag_project_env\\lib\\site-packages (from chromadb!=0.5.10,!=0.5.11,!=0.5.12,!=0.5.4,!=0.5.5,!=0.5.7,!=0.5.9,<0.7.0,>=0.4.0->langchain_chroma) (0.15.1)\n",
      "Requirement already satisfied: kubernetes>=28.1.0 in c:\\users\\dsittc\\.conda\\envs\\rag_project_env\\lib\\site-packages (from chromadb!=0.5.10,!=0.5.11,!=0.5.12,!=0.5.4,!=0.5.5,!=0.5.7,!=0.5.9,<0.7.0,>=0.4.0->langchain_chroma) (32.0.1)\n",
      "Requirement already satisfied: tenacity>=8.2.3 in c:\\users\\dsittc\\.conda\\envs\\rag_project_env\\lib\\site-packages (from chromadb!=0.5.10,!=0.5.11,!=0.5.12,!=0.5.4,!=0.5.5,!=0.5.7,!=0.5.9,<0.7.0,>=0.4.0->langchain_chroma) (9.0.0)\n",
      "Requirement already satisfied: PyYAML>=6.0.0 in c:\\users\\dsittc\\.conda\\envs\\rag_project_env\\lib\\site-packages (from chromadb!=0.5.10,!=0.5.11,!=0.5.12,!=0.5.4,!=0.5.5,!=0.5.7,!=0.5.9,<0.7.0,>=0.4.0->langchain_chroma) (6.0.2)\n",
      "Requirement already satisfied: mmh3>=4.0.1 in c:\\users\\dsittc\\.conda\\envs\\rag_project_env\\lib\\site-packages (from chromadb!=0.5.10,!=0.5.11,!=0.5.12,!=0.5.4,!=0.5.5,!=0.5.7,!=0.5.9,<0.7.0,>=0.4.0->langchain_chroma) (5.1.0)\n",
      "Requirement already satisfied: orjson>=3.9.12 in c:\\users\\dsittc\\.conda\\envs\\rag_project_env\\lib\\site-packages (from chromadb!=0.5.10,!=0.5.11,!=0.5.12,!=0.5.4,!=0.5.5,!=0.5.7,!=0.5.9,<0.7.0,>=0.4.0->langchain_chroma) (3.10.15)\n",
      "Requirement already satisfied: httpx>=0.27.0 in c:\\users\\dsittc\\.conda\\envs\\rag_project_env\\lib\\site-packages (from chromadb!=0.5.10,!=0.5.11,!=0.5.12,!=0.5.4,!=0.5.5,!=0.5.7,!=0.5.9,<0.7.0,>=0.4.0->langchain_chroma) (0.28.1)\n",
      "Requirement already satisfied: rich>=10.11.0 in c:\\users\\dsittc\\.conda\\envs\\rag_project_env\\lib\\site-packages (from chromadb!=0.5.10,!=0.5.11,!=0.5.12,!=0.5.4,!=0.5.5,!=0.5.7,!=0.5.9,<0.7.0,>=0.4.0->langchain_chroma) (13.9.4)\n",
      "Requirement already satisfied: google-api-core!=2.0.*,!=2.1.*,!=2.10.*,!=2.2.*,!=2.3.*,!=2.4.*,!=2.5.*,!=2.6.*,!=2.7.*,!=2.8.*,!=2.9.*,<3.0.0dev,>=1.34.1 in c:\\users\\dsittc\\.conda\\envs\\rag_project_env\\lib\\site-packages (from google-api-core[grpc]!=2.0.*,!=2.1.*,!=2.10.*,!=2.2.*,!=2.3.*,!=2.4.*,!=2.5.*,!=2.6.*,!=2.7.*,!=2.8.*,!=2.9.*,<3.0.0dev,>=1.34.1->google-ai-generativelanguage<0.7.0,>=0.6.16->langchain_google_genai) (2.24.1)\n",
      "Requirement already satisfied: google-auth!=2.24.0,!=2.25.0,<3.0.0dev,>=2.14.1 in c:\\users\\dsittc\\.conda\\envs\\rag_project_env\\lib\\site-packages (from google-ai-generativelanguage<0.7.0,>=0.6.16->langchain_google_genai) (2.38.0)\n",
      "Requirement already satisfied: proto-plus<2.0.0dev,>=1.22.3 in c:\\users\\dsittc\\.conda\\envs\\rag_project_env\\lib\\site-packages (from google-ai-generativelanguage<0.7.0,>=0.6.16->langchain_google_genai) (1.26.0)\n",
      "Requirement already satisfied: protobuf!=4.21.0,!=4.21.1,!=4.21.2,!=4.21.3,!=4.21.4,!=4.21.5,<6.0.0dev,>=3.20.2 in c:\\users\\dsittc\\.conda\\envs\\rag_project_env\\lib\\site-packages (from google-ai-generativelanguage<0.7.0,>=0.6.16->langchain_google_genai) (5.29.3)\n",
      "Requirement already satisfied: langsmith<0.4,>=0.1.125 in c:\\users\\dsittc\\.conda\\envs\\rag_project_env\\lib\\site-packages (from langchain-core!=0.3.0,!=0.3.1,!=0.3.10,!=0.3.11,!=0.3.12,!=0.3.13,!=0.3.14,!=0.3.2,!=0.3.3,!=0.3.4,!=0.3.5,!=0.3.6,!=0.3.7,!=0.3.8,!=0.3.9,<0.4.0,>=0.2.43->langchain_chroma) (0.3.11)\n",
      "Requirement already satisfied: jsonpatch<2.0,>=1.33 in c:\\users\\dsittc\\.conda\\envs\\rag_project_env\\lib\\site-packages (from langchain-core!=0.3.0,!=0.3.1,!=0.3.10,!=0.3.11,!=0.3.12,!=0.3.13,!=0.3.14,!=0.3.2,!=0.3.3,!=0.3.4,!=0.3.5,!=0.3.6,!=0.3.7,!=0.3.8,!=0.3.9,<0.4.0,>=0.2.43->langchain_chroma) (1.33)\n",
      "Requirement already satisfied: packaging<25,>=23.2 in c:\\users\\dsittc\\.conda\\envs\\rag_project_env\\lib\\site-packages (from langchain-core!=0.3.0,!=0.3.1,!=0.3.10,!=0.3.11,!=0.3.12,!=0.3.13,!=0.3.14,!=0.3.2,!=0.3.3,!=0.3.4,!=0.3.5,!=0.3.6,!=0.3.7,!=0.3.8,!=0.3.9,<0.4.0,>=0.2.43->langchain_chroma) (24.2)\n",
      "Requirement already satisfied: annotated-types>=0.6.0 in c:\\users\\dsittc\\.conda\\envs\\rag_project_env\\lib\\site-packages (from pydantic<3,>=2->langchain_google_genai) (0.7.0)\n",
      "Requirement already satisfied: pydantic-core==2.27.2 in c:\\users\\dsittc\\.conda\\envs\\rag_project_env\\lib\\site-packages (from pydantic<3,>=2->langchain_google_genai) (2.27.2)\n",
      "Requirement already satisfied: pyproject_hooks in c:\\users\\dsittc\\.conda\\envs\\rag_project_env\\lib\\site-packages (from build>=1.0.3->chromadb!=0.5.10,!=0.5.11,!=0.5.12,!=0.5.4,!=0.5.5,!=0.5.7,!=0.5.9,<0.7.0,>=0.4.0->langchain_chroma) (1.2.0)\n",
      "Requirement already satisfied: colorama in c:\\users\\dsittc\\.conda\\envs\\rag_project_env\\lib\\site-packages (from build>=1.0.3->chromadb!=0.5.10,!=0.5.11,!=0.5.12,!=0.5.4,!=0.5.5,!=0.5.7,!=0.5.9,<0.7.0,>=0.4.0->langchain_chroma) (0.4.6)\n",
      "Requirement already satisfied: importlib-metadata>=4.6 in c:\\users\\dsittc\\.conda\\envs\\rag_project_env\\lib\\site-packages (from build>=1.0.3->chromadb!=0.5.10,!=0.5.11,!=0.5.12,!=0.5.4,!=0.5.5,!=0.5.7,!=0.5.9,<0.7.0,>=0.4.0->langchain_chroma) (8.5.0)\n",
      "Requirement already satisfied: tomli>=1.1.0 in c:\\users\\dsittc\\.conda\\envs\\rag_project_env\\lib\\site-packages (from build>=1.0.3->chromadb!=0.5.10,!=0.5.11,!=0.5.12,!=0.5.4,!=0.5.5,!=0.5.7,!=0.5.9,<0.7.0,>=0.4.0->langchain_chroma) (2.2.1)\n",
      "Requirement already satisfied: starlette<0.46.0,>=0.40.0 in c:\\users\\dsittc\\.conda\\envs\\rag_project_env\\lib\\site-packages (from fastapi>=0.95.2->chromadb!=0.5.10,!=0.5.11,!=0.5.12,!=0.5.4,!=0.5.5,!=0.5.7,!=0.5.9,<0.7.0,>=0.4.0->langchain_chroma) (0.45.3)\n",
      "Requirement already satisfied: googleapis-common-protos<2.0.dev0,>=1.56.2 in c:\\users\\dsittc\\.conda\\envs\\rag_project_env\\lib\\site-packages (from google-api-core!=2.0.*,!=2.1.*,!=2.10.*,!=2.2.*,!=2.3.*,!=2.4.*,!=2.5.*,!=2.6.*,!=2.7.*,!=2.8.*,!=2.9.*,<3.0.0dev,>=1.34.1->google-api-core[grpc]!=2.0.*,!=2.1.*,!=2.10.*,!=2.2.*,!=2.3.*,!=2.4.*,!=2.5.*,!=2.6.*,!=2.7.*,!=2.8.*,!=2.9.*,<3.0.0dev,>=1.34.1->google-ai-generativelanguage<0.7.0,>=0.6.16->langchain_google_genai) (1.68.0)\n",
      "Requirement already satisfied: requests<3.0.0.dev0,>=2.18.0 in c:\\users\\dsittc\\.conda\\envs\\rag_project_env\\lib\\site-packages (from google-api-core!=2.0.*,!=2.1.*,!=2.10.*,!=2.2.*,!=2.3.*,!=2.4.*,!=2.5.*,!=2.6.*,!=2.7.*,!=2.8.*,!=2.9.*,<3.0.0dev,>=1.34.1->google-api-core[grpc]!=2.0.*,!=2.1.*,!=2.10.*,!=2.2.*,!=2.3.*,!=2.4.*,!=2.5.*,!=2.6.*,!=2.7.*,!=2.8.*,!=2.9.*,<3.0.0dev,>=1.34.1->google-ai-generativelanguage<0.7.0,>=0.6.16->langchain_google_genai) (2.32.3)\n",
      "Requirement already satisfied: grpcio-status<2.0.dev0,>=1.33.2 in c:\\users\\dsittc\\.conda\\envs\\rag_project_env\\lib\\site-packages (from google-api-core[grpc]!=2.0.*,!=2.1.*,!=2.10.*,!=2.2.*,!=2.3.*,!=2.4.*,!=2.5.*,!=2.6.*,!=2.7.*,!=2.8.*,!=2.9.*,<3.0.0dev,>=1.34.1->google-ai-generativelanguage<0.7.0,>=0.6.16->langchain_google_genai) (1.71.0rc2)\n",
      "Requirement already satisfied: cachetools<6.0,>=2.0.0 in c:\\users\\dsittc\\.conda\\envs\\rag_project_env\\lib\\site-packages (from google-auth!=2.24.0,!=2.25.0,<3.0.0dev,>=2.14.1->google-ai-generativelanguage<0.7.0,>=0.6.16->langchain_google_genai) (5.5.2)\n",
      "Requirement already satisfied: pyasn1-modules>=0.2.1 in c:\\users\\dsittc\\.conda\\envs\\rag_project_env\\lib\\site-packages (from google-auth!=2.24.0,!=2.25.0,<3.0.0dev,>=2.14.1->google-ai-generativelanguage<0.7.0,>=0.6.16->langchain_google_genai) (0.4.1)\n",
      "Requirement already satisfied: rsa<5,>=3.1.4 in c:\\users\\dsittc\\.conda\\envs\\rag_project_env\\lib\\site-packages (from google-auth!=2.24.0,!=2.25.0,<3.0.0dev,>=2.14.1->google-ai-generativelanguage<0.7.0,>=0.6.16->langchain_google_genai) (4.9)\n",
      "Requirement already satisfied: anyio in c:\\users\\dsittc\\.conda\\envs\\rag_project_env\\lib\\site-packages (from httpx>=0.27.0->chromadb!=0.5.10,!=0.5.11,!=0.5.12,!=0.5.4,!=0.5.5,!=0.5.7,!=0.5.9,<0.7.0,>=0.4.0->langchain_chroma) (4.8.0)\n",
      "Requirement already satisfied: certifi in c:\\users\\dsittc\\.conda\\envs\\rag_project_env\\lib\\site-packages (from httpx>=0.27.0->chromadb!=0.5.10,!=0.5.11,!=0.5.12,!=0.5.4,!=0.5.5,!=0.5.7,!=0.5.9,<0.7.0,>=0.4.0->langchain_chroma) (2025.1.31)\n",
      "Requirement already satisfied: httpcore==1.* in c:\\users\\dsittc\\.conda\\envs\\rag_project_env\\lib\\site-packages (from httpx>=0.27.0->chromadb!=0.5.10,!=0.5.11,!=0.5.12,!=0.5.4,!=0.5.5,!=0.5.7,!=0.5.9,<0.7.0,>=0.4.0->langchain_chroma) (1.0.7)\n",
      "Requirement already satisfied: idna in c:\\users\\dsittc\\.conda\\envs\\rag_project_env\\lib\\site-packages (from httpx>=0.27.0->chromadb!=0.5.10,!=0.5.11,!=0.5.12,!=0.5.4,!=0.5.5,!=0.5.7,!=0.5.9,<0.7.0,>=0.4.0->langchain_chroma) (3.10)\n",
      "Requirement already satisfied: h11<0.15,>=0.13 in c:\\users\\dsittc\\.conda\\envs\\rag_project_env\\lib\\site-packages (from httpcore==1.*->httpx>=0.27.0->chromadb!=0.5.10,!=0.5.11,!=0.5.12,!=0.5.4,!=0.5.5,!=0.5.7,!=0.5.9,<0.7.0,>=0.4.0->langchain_chroma) (0.14.0)\n",
      "Requirement already satisfied: jsonpointer>=1.9 in c:\\users\\dsittc\\.conda\\envs\\rag_project_env\\lib\\site-packages (from jsonpatch<2.0,>=1.33->langchain-core!=0.3.0,!=0.3.1,!=0.3.10,!=0.3.11,!=0.3.12,!=0.3.13,!=0.3.14,!=0.3.2,!=0.3.3,!=0.3.4,!=0.3.5,!=0.3.6,!=0.3.7,!=0.3.8,!=0.3.9,<0.4.0,>=0.2.43->langchain_chroma) (3.0.0)\n",
      "Requirement already satisfied: six>=1.9.0 in c:\\users\\dsittc\\.conda\\envs\\rag_project_env\\lib\\site-packages (from kubernetes>=28.1.0->chromadb!=0.5.10,!=0.5.11,!=0.5.12,!=0.5.4,!=0.5.5,!=0.5.7,!=0.5.9,<0.7.0,>=0.4.0->langchain_chroma) (1.17.0)\n",
      "Requirement already satisfied: python-dateutil>=2.5.3 in c:\\users\\dsittc\\.conda\\envs\\rag_project_env\\lib\\site-packages (from kubernetes>=28.1.0->chromadb!=0.5.10,!=0.5.11,!=0.5.12,!=0.5.4,!=0.5.5,!=0.5.7,!=0.5.9,<0.7.0,>=0.4.0->langchain_chroma) (2.9.0.post0)\n",
      "Requirement already satisfied: websocket-client!=0.40.0,!=0.41.*,!=0.42.*,>=0.32.0 in c:\\users\\dsittc\\.conda\\envs\\rag_project_env\\lib\\site-packages (from kubernetes>=28.1.0->chromadb!=0.5.10,!=0.5.11,!=0.5.12,!=0.5.4,!=0.5.5,!=0.5.7,!=0.5.9,<0.7.0,>=0.4.0->langchain_chroma) (1.8.0)\n",
      "Requirement already satisfied: requests-oauthlib in c:\\users\\dsittc\\.conda\\envs\\rag_project_env\\lib\\site-packages (from kubernetes>=28.1.0->chromadb!=0.5.10,!=0.5.11,!=0.5.12,!=0.5.4,!=0.5.5,!=0.5.7,!=0.5.9,<0.7.0,>=0.4.0->langchain_chroma) (2.0.0)\n",
      "Requirement already satisfied: oauthlib>=3.2.2 in c:\\users\\dsittc\\.conda\\envs\\rag_project_env\\lib\\site-packages (from kubernetes>=28.1.0->chromadb!=0.5.10,!=0.5.11,!=0.5.12,!=0.5.4,!=0.5.5,!=0.5.7,!=0.5.9,<0.7.0,>=0.4.0->langchain_chroma) (3.2.2)\n",
      "Requirement already satisfied: urllib3>=1.24.2 in c:\\users\\dsittc\\.conda\\envs\\rag_project_env\\lib\\site-packages (from kubernetes>=28.1.0->chromadb!=0.5.10,!=0.5.11,!=0.5.12,!=0.5.4,!=0.5.5,!=0.5.7,!=0.5.9,<0.7.0,>=0.4.0->langchain_chroma) (2.3.0)\n",
      "Requirement already satisfied: durationpy>=0.7 in c:\\users\\dsittc\\.conda\\envs\\rag_project_env\\lib\\site-packages (from kubernetes>=28.1.0->chromadb!=0.5.10,!=0.5.11,!=0.5.12,!=0.5.4,!=0.5.5,!=0.5.7,!=0.5.9,<0.7.0,>=0.4.0->langchain_chroma) (0.9)\n",
      "Requirement already satisfied: requests-toolbelt<2.0.0,>=1.0.0 in c:\\users\\dsittc\\.conda\\envs\\rag_project_env\\lib\\site-packages (from langsmith<0.4,>=0.1.125->langchain-core!=0.3.0,!=0.3.1,!=0.3.10,!=0.3.11,!=0.3.12,!=0.3.13,!=0.3.14,!=0.3.2,!=0.3.3,!=0.3.4,!=0.3.5,!=0.3.6,!=0.3.7,!=0.3.8,!=0.3.9,<0.4.0,>=0.2.43->langchain_chroma) (1.0.0)\n",
      "Requirement already satisfied: zstandard<0.24.0,>=0.23.0 in c:\\users\\dsittc\\.conda\\envs\\rag_project_env\\lib\\site-packages (from langsmith<0.4,>=0.1.125->langchain-core!=0.3.0,!=0.3.1,!=0.3.10,!=0.3.11,!=0.3.12,!=0.3.13,!=0.3.14,!=0.3.2,!=0.3.3,!=0.3.4,!=0.3.5,!=0.3.6,!=0.3.7,!=0.3.8,!=0.3.9,<0.4.0,>=0.2.43->langchain_chroma) (0.23.0)\n",
      "Requirement already satisfied: coloredlogs in c:\\users\\dsittc\\.conda\\envs\\rag_project_env\\lib\\site-packages (from onnxruntime>=1.14.1->chromadb!=0.5.10,!=0.5.11,!=0.5.12,!=0.5.4,!=0.5.5,!=0.5.7,!=0.5.9,<0.7.0,>=0.4.0->langchain_chroma) (15.0.1)\n",
      "Requirement already satisfied: flatbuffers in c:\\users\\dsittc\\.conda\\envs\\rag_project_env\\lib\\site-packages (from onnxruntime>=1.14.1->chromadb!=0.5.10,!=0.5.11,!=0.5.12,!=0.5.4,!=0.5.5,!=0.5.7,!=0.5.9,<0.7.0,>=0.4.0->langchain_chroma) (25.2.10)\n",
      "Requirement already satisfied: sympy in c:\\users\\dsittc\\.conda\\envs\\rag_project_env\\lib\\site-packages (from onnxruntime>=1.14.1->chromadb!=0.5.10,!=0.5.11,!=0.5.12,!=0.5.4,!=0.5.5,!=0.5.7,!=0.5.9,<0.7.0,>=0.4.0->langchain_chroma) (1.13.3)\n",
      "Requirement already satisfied: deprecated>=1.2.6 in c:\\users\\dsittc\\.conda\\envs\\rag_project_env\\lib\\site-packages (from opentelemetry-api>=1.2.0->chromadb!=0.5.10,!=0.5.11,!=0.5.12,!=0.5.4,!=0.5.5,!=0.5.7,!=0.5.9,<0.7.0,>=0.4.0->langchain_chroma) (1.2.18)\n",
      "Requirement already satisfied: opentelemetry-exporter-otlp-proto-common==1.30.0 in c:\\users\\dsittc\\.conda\\envs\\rag_project_env\\lib\\site-packages (from opentelemetry-exporter-otlp-proto-grpc>=1.2.0->chromadb!=0.5.10,!=0.5.11,!=0.5.12,!=0.5.4,!=0.5.5,!=0.5.7,!=0.5.9,<0.7.0,>=0.4.0->langchain_chroma) (1.30.0)\n",
      "Requirement already satisfied: opentelemetry-proto==1.30.0 in c:\\users\\dsittc\\.conda\\envs\\rag_project_env\\lib\\site-packages (from opentelemetry-exporter-otlp-proto-grpc>=1.2.0->chromadb!=0.5.10,!=0.5.11,!=0.5.12,!=0.5.4,!=0.5.5,!=0.5.7,!=0.5.9,<0.7.0,>=0.4.0->langchain_chroma) (1.30.0)\n",
      "Requirement already satisfied: opentelemetry-instrumentation-asgi==0.51b0 in c:\\users\\dsittc\\.conda\\envs\\rag_project_env\\lib\\site-packages (from opentelemetry-instrumentation-fastapi>=0.41b0->chromadb!=0.5.10,!=0.5.11,!=0.5.12,!=0.5.4,!=0.5.5,!=0.5.7,!=0.5.9,<0.7.0,>=0.4.0->langchain_chroma) (0.51b0)\n",
      "Requirement already satisfied: opentelemetry-instrumentation==0.51b0 in c:\\users\\dsittc\\.conda\\envs\\rag_project_env\\lib\\site-packages (from opentelemetry-instrumentation-fastapi>=0.41b0->chromadb!=0.5.10,!=0.5.11,!=0.5.12,!=0.5.4,!=0.5.5,!=0.5.7,!=0.5.9,<0.7.0,>=0.4.0->langchain_chroma) (0.51b0)\n",
      "Requirement already satisfied: opentelemetry-semantic-conventions==0.51b0 in c:\\users\\dsittc\\.conda\\envs\\rag_project_env\\lib\\site-packages (from opentelemetry-instrumentation-fastapi>=0.41b0->chromadb!=0.5.10,!=0.5.11,!=0.5.12,!=0.5.4,!=0.5.5,!=0.5.7,!=0.5.9,<0.7.0,>=0.4.0->langchain_chroma) (0.51b0)\n",
      "Requirement already satisfied: opentelemetry-util-http==0.51b0 in c:\\users\\dsittc\\.conda\\envs\\rag_project_env\\lib\\site-packages (from opentelemetry-instrumentation-fastapi>=0.41b0->chromadb!=0.5.10,!=0.5.11,!=0.5.12,!=0.5.4,!=0.5.5,!=0.5.7,!=0.5.9,<0.7.0,>=0.4.0->langchain_chroma) (0.51b0)\n",
      "Requirement already satisfied: wrapt<2.0.0,>=1.0.0 in c:\\users\\dsittc\\.conda\\envs\\rag_project_env\\lib\\site-packages (from opentelemetry-instrumentation==0.51b0->opentelemetry-instrumentation-fastapi>=0.41b0->chromadb!=0.5.10,!=0.5.11,!=0.5.12,!=0.5.4,!=0.5.5,!=0.5.7,!=0.5.9,<0.7.0,>=0.4.0->langchain_chroma) (1.17.2)\n",
      "Requirement already satisfied: asgiref~=3.0 in c:\\users\\dsittc\\.conda\\envs\\rag_project_env\\lib\\site-packages (from opentelemetry-instrumentation-asgi==0.51b0->opentelemetry-instrumentation-fastapi>=0.41b0->chromadb!=0.5.10,!=0.5.11,!=0.5.12,!=0.5.4,!=0.5.5,!=0.5.7,!=0.5.9,<0.7.0,>=0.4.0->langchain_chroma) (3.8.1)\n",
      "Requirement already satisfied: monotonic>=1.5 in c:\\users\\dsittc\\.conda\\envs\\rag_project_env\\lib\\site-packages (from posthog>=2.4.0->chromadb!=0.5.10,!=0.5.11,!=0.5.12,!=0.5.4,!=0.5.5,!=0.5.7,!=0.5.9,<0.7.0,>=0.4.0->langchain_chroma) (1.6)\n",
      "Requirement already satisfied: backoff>=1.10.0 in c:\\users\\dsittc\\.conda\\envs\\rag_project_env\\lib\\site-packages (from posthog>=2.4.0->chromadb!=0.5.10,!=0.5.11,!=0.5.12,!=0.5.4,!=0.5.5,!=0.5.7,!=0.5.9,<0.7.0,>=0.4.0->langchain_chroma) (2.2.1)\n",
      "Requirement already satisfied: distro>=1.5.0 in c:\\users\\dsittc\\.conda\\envs\\rag_project_env\\lib\\site-packages (from posthog>=2.4.0->chromadb!=0.5.10,!=0.5.11,!=0.5.12,!=0.5.4,!=0.5.5,!=0.5.7,!=0.5.9,<0.7.0,>=0.4.0->langchain_chroma) (1.9.0)\n",
      "Requirement already satisfied: markdown-it-py>=2.2.0 in c:\\users\\dsittc\\.conda\\envs\\rag_project_env\\lib\\site-packages (from rich>=10.11.0->chromadb!=0.5.10,!=0.5.11,!=0.5.12,!=0.5.4,!=0.5.5,!=0.5.7,!=0.5.9,<0.7.0,>=0.4.0->langchain_chroma) (3.0.0)\n",
      "Requirement already satisfied: pygments<3.0.0,>=2.13.0 in c:\\users\\dsittc\\.conda\\envs\\rag_project_env\\lib\\site-packages (from rich>=10.11.0->chromadb!=0.5.10,!=0.5.11,!=0.5.12,!=0.5.4,!=0.5.5,!=0.5.7,!=0.5.9,<0.7.0,>=0.4.0->langchain_chroma) (2.19.1)\n",
      "Requirement already satisfied: huggingface-hub<1.0,>=0.16.4 in c:\\users\\dsittc\\.conda\\envs\\rag_project_env\\lib\\site-packages (from tokenizers>=0.13.2->chromadb!=0.5.10,!=0.5.11,!=0.5.12,!=0.5.4,!=0.5.5,!=0.5.7,!=0.5.9,<0.7.0,>=0.4.0->langchain_chroma) (0.29.1)\n",
      "Requirement already satisfied: click>=8.0.0 in c:\\users\\dsittc\\.conda\\envs\\rag_project_env\\lib\\site-packages (from typer>=0.9.0->chromadb!=0.5.10,!=0.5.11,!=0.5.12,!=0.5.4,!=0.5.5,!=0.5.7,!=0.5.9,<0.7.0,>=0.4.0->langchain_chroma) (8.1.8)\n",
      "Requirement already satisfied: shellingham>=1.3.0 in c:\\users\\dsittc\\.conda\\envs\\rag_project_env\\lib\\site-packages (from typer>=0.9.0->chromadb!=0.5.10,!=0.5.11,!=0.5.12,!=0.5.4,!=0.5.5,!=0.5.7,!=0.5.9,<0.7.0,>=0.4.0->langchain_chroma) (1.5.4)\n",
      "Requirement already satisfied: httptools>=0.6.3 in c:\\users\\dsittc\\.conda\\envs\\rag_project_env\\lib\\site-packages (from uvicorn[standard]>=0.18.3->chromadb!=0.5.10,!=0.5.11,!=0.5.12,!=0.5.4,!=0.5.5,!=0.5.7,!=0.5.9,<0.7.0,>=0.4.0->langchain_chroma) (0.6.4)\n",
      "Requirement already satisfied: python-dotenv>=0.13 in c:\\users\\dsittc\\.conda\\envs\\rag_project_env\\lib\\site-packages (from uvicorn[standard]>=0.18.3->chromadb!=0.5.10,!=0.5.11,!=0.5.12,!=0.5.4,!=0.5.5,!=0.5.7,!=0.5.9,<0.7.0,>=0.4.0->langchain_chroma) (1.0.1)\n",
      "Requirement already satisfied: watchfiles>=0.13 in c:\\users\\dsittc\\.conda\\envs\\rag_project_env\\lib\\site-packages (from uvicorn[standard]>=0.18.3->chromadb!=0.5.10,!=0.5.11,!=0.5.12,!=0.5.4,!=0.5.5,!=0.5.7,!=0.5.9,<0.7.0,>=0.4.0->langchain_chroma) (1.0.4)\n",
      "Requirement already satisfied: websockets>=10.4 in c:\\users\\dsittc\\.conda\\envs\\rag_project_env\\lib\\site-packages (from uvicorn[standard]>=0.18.3->chromadb!=0.5.10,!=0.5.11,!=0.5.12,!=0.5.4,!=0.5.5,!=0.5.7,!=0.5.9,<0.7.0,>=0.4.0->langchain_chroma) (15.0)\n",
      "Requirement already satisfied: zipp>=3.1.0 in c:\\users\\dsittc\\.conda\\envs\\rag_project_env\\lib\\site-packages (from importlib-resources->chromadb!=0.5.10,!=0.5.11,!=0.5.12,!=0.5.4,!=0.5.5,!=0.5.7,!=0.5.9,<0.7.0,>=0.4.0->langchain_chroma) (3.21.0)\n",
      "Requirement already satisfied: filelock in c:\\users\\dsittc\\.conda\\envs\\rag_project_env\\lib\\site-packages (from huggingface-hub<1.0,>=0.16.4->tokenizers>=0.13.2->chromadb!=0.5.10,!=0.5.11,!=0.5.12,!=0.5.4,!=0.5.5,!=0.5.7,!=0.5.9,<0.7.0,>=0.4.0->langchain_chroma) (3.17.0)\n",
      "Requirement already satisfied: fsspec>=2023.5.0 in c:\\users\\dsittc\\.conda\\envs\\rag_project_env\\lib\\site-packages (from huggingface-hub<1.0,>=0.16.4->tokenizers>=0.13.2->chromadb!=0.5.10,!=0.5.11,!=0.5.12,!=0.5.4,!=0.5.5,!=0.5.7,!=0.5.9,<0.7.0,>=0.4.0->langchain_chroma) (2024.12.0)\n",
      "Requirement already satisfied: mdurl~=0.1 in c:\\users\\dsittc\\.conda\\envs\\rag_project_env\\lib\\site-packages (from markdown-it-py>=2.2.0->rich>=10.11.0->chromadb!=0.5.10,!=0.5.11,!=0.5.12,!=0.5.4,!=0.5.5,!=0.5.7,!=0.5.9,<0.7.0,>=0.4.0->langchain_chroma) (0.1.2)\n",
      "Requirement already satisfied: pyasn1<0.7.0,>=0.4.6 in c:\\users\\dsittc\\.conda\\envs\\rag_project_env\\lib\\site-packages (from pyasn1-modules>=0.2.1->google-auth!=2.24.0,!=2.25.0,<3.0.0dev,>=2.14.1->google-ai-generativelanguage<0.7.0,>=0.6.16->langchain_google_genai) (0.6.1)\n",
      "Requirement already satisfied: charset-normalizer<4,>=2 in c:\\users\\dsittc\\.conda\\envs\\rag_project_env\\lib\\site-packages (from requests<3.0.0.dev0,>=2.18.0->google-api-core!=2.0.*,!=2.1.*,!=2.10.*,!=2.2.*,!=2.3.*,!=2.4.*,!=2.5.*,!=2.6.*,!=2.7.*,!=2.8.*,!=2.9.*,<3.0.0dev,>=1.34.1->google-api-core[grpc]!=2.0.*,!=2.1.*,!=2.10.*,!=2.2.*,!=2.3.*,!=2.4.*,!=2.5.*,!=2.6.*,!=2.7.*,!=2.8.*,!=2.9.*,<3.0.0dev,>=1.34.1->google-ai-generativelanguage<0.7.0,>=0.6.16->langchain_google_genai) (3.4.1)\n",
      "Requirement already satisfied: exceptiongroup>=1.0.2 in c:\\users\\dsittc\\.conda\\envs\\rag_project_env\\lib\\site-packages (from anyio->httpx>=0.27.0->chromadb!=0.5.10,!=0.5.11,!=0.5.12,!=0.5.4,!=0.5.5,!=0.5.7,!=0.5.9,<0.7.0,>=0.4.0->langchain_chroma) (1.2.2)\n",
      "Requirement already satisfied: sniffio>=1.1 in c:\\users\\dsittc\\.conda\\envs\\rag_project_env\\lib\\site-packages (from anyio->httpx>=0.27.0->chromadb!=0.5.10,!=0.5.11,!=0.5.12,!=0.5.4,!=0.5.5,!=0.5.7,!=0.5.9,<0.7.0,>=0.4.0->langchain_chroma) (1.3.1)\n",
      "Requirement already satisfied: humanfriendly>=9.1 in c:\\users\\dsittc\\.conda\\envs\\rag_project_env\\lib\\site-packages (from coloredlogs->onnxruntime>=1.14.1->chromadb!=0.5.10,!=0.5.11,!=0.5.12,!=0.5.4,!=0.5.5,!=0.5.7,!=0.5.9,<0.7.0,>=0.4.0->langchain_chroma) (10.0)\n",
      "Requirement already satisfied: mpmath<1.4,>=1.1.0 in c:\\users\\dsittc\\.conda\\envs\\rag_project_env\\lib\\site-packages (from sympy->onnxruntime>=1.14.1->chromadb!=0.5.10,!=0.5.11,!=0.5.12,!=0.5.4,!=0.5.5,!=0.5.7,!=0.5.9,<0.7.0,>=0.4.0->langchain_chroma) (1.3.0)\n",
      "Requirement already satisfied: pyreadline3 in c:\\users\\dsittc\\.conda\\envs\\rag_project_env\\lib\\site-packages (from humanfriendly>=9.1->coloredlogs->onnxruntime>=1.14.1->chromadb!=0.5.10,!=0.5.11,!=0.5.12,!=0.5.4,!=0.5.5,!=0.5.7,!=0.5.9,<0.7.0,>=0.4.0->langchain_chroma) (3.5.4)\n",
      "Downloading langchain_chroma-0.2.2-py3-none-any.whl (11 kB)\n",
      "Installing collected packages: langchain_chroma\n",
      "Successfully installed langchain_chroma-0.2.2\n"
     ]
    }
   ],
   "source": [
    "%pip install langchain_chroma langchain_google_genai\n",
    "\n",
    "from langchain_chroma import Chroma\n",
    "from langchain_google_genai import GoogleGenerativeAIEmbeddings\n"
   ]
  },
  {
   "cell_type": "code",
   "execution_count": null,
   "metadata": {},
   "outputs": [
    {
     "data": {
      "text/plain": [
       "True"
      ]
     },
     "execution_count": 20,
     "metadata": {},
     "output_type": "execute_result"
    }
   ],
   "source": [
    "# load env variables\n",
    "import os\n",
    "from dotenv import load_dotenv\n",
    "\n",
    "load_dotenv()\n",
    "\n"
   ]
  },
  {
   "cell_type": "code",
   "execution_count": 34,
   "metadata": {},
   "outputs": [],
   "source": [
    "from langchain_chroma import Chroma\n",
    "from langchain_google_genai import GoogleGenerativeAIEmbeddings"
   ]
  },
  {
   "cell_type": "code",
   "execution_count": 35,
   "metadata": {},
   "outputs": [
    {
     "data": {
      "text/plain": [
       "True"
      ]
     },
     "execution_count": 35,
     "metadata": {},
     "output_type": "execute_result"
    }
   ],
   "source": [
    "from dotenv import load_dotenv\n",
    "load_dotenv()"
   ]
  },
  {
   "cell_type": "code",
   "execution_count": null,
   "metadata": {},
   "outputs": [],
   "source": [
    "# create and store embeddings in Chroma\n",
    "embeddings = GoogleGenerativeAIEmbeddings(\n",
    "    model=\"models/embedding-001\",\n",
    "    temperature=0.01,\n",
    "    max_output_tokens=512,\n",
    ")\n",
    "vectorstore = Chroma.from_documents(\n",
    "    documents,\n",
    "    embeddings,\n",
    "    persist_directory=\"chroma\",\n",
    ")"
   ]
  },
  {
   "cell_type": "code",
   "execution_count": 41,
   "metadata": {},
   "outputs": [],
   "source": [
    "# retrieve the stored embeddings\n",
    "retriever = vectorstore.as_retriever(search_type=\"similarity\",search_kwargs={\"k\": 10})\n",
    "# retriever.get_relevant_documents(\"What is my name?\")"
   ]
  },
  {
   "cell_type": "code",
   "execution_count": 43,
   "metadata": {},
   "outputs": [
    {
     "name": "stderr",
     "output_type": "stream",
     "text": [
      "Number of requested results 10 is greater than number of elements in index 1, updating n_results = 1\n"
     ]
    }
   ],
   "source": [
    "\n",
    "retrieved_docs = retriever.invoke(\"what is my name?\")\n",
    "\n"
   ]
  },
  {
   "cell_type": "code",
   "execution_count": 44,
   "metadata": {},
   "outputs": [
    {
     "data": {
      "text/plain": [
       "[Document(id='d897de1a-ef6a-42e0-aafe-2141ff4e3b2c', metadata={'author': '', 'creationdate': '2025-02-10T09:40:26+00:00', 'creator': 'LaTeX with hyperref', 'keywords': '', 'moddate': '2025-02-10T09:40:26+00:00', 'page': 0, 'page_label': '1', 'producer': 'pdfTeX-1.40.25', 'ptex.fullbanner': 'This is pdfTeX, Version 3.141592653-2.6-1.40.25 (TeX Live 2023) kpathsea version 6.3.5', 'source': 'LatestResume_GenAI_SK.pdf', 'subject': '', 'title': '', 'total_pages': 1, 'trapped': '/False'}, page_content='Sandeep Kumar\\n♂phone9305525008 — /linkedinsandeepkumar — /githubSandeepk14 — /envel⌢peskraj5873@gmail.com — /user-circlePortfolio\\nSummary — Aspiring Data Scientist with practical experience in Machine Learning and Data Analysis. Gained hands-on\\nexpertise during a 6-month internship at Jupiter AI Lab, working with Python and its robust data libraries (Pandas, NumPy ,\\nMatplotlib, and Seaborn) for model building and EDA (Exploratory Data Analysis). Proficient in SQL, BI tools like Power BI,\\nand Excel for effective data management and visualization.\\nSkills\\nLanguages: Python,Java, SQL\\nLibraries: Pandas, NumPy , Matplotlib,SckiteLearn Seaborn, Flask, TensorFlow\\nGenerative AI: Hugging Face Transformers, LangChain, Rag, Fine Tunning, FastAPI\\nTools: Git, Github, Power BI, Excel, Vs Code, Anaconda, Jupyter Notebook, Google Colab\\nTechniques: ML, DL, Data Analysis, Model Building, EDA, Data Manipulation, Analyzing Large Datasets\\nSoft Skills: Communication Skills, Presentation Skills, Hard-Working, Problem-Solving\\nExperience\\nMachine Learning Intern Aug 2024 – Currently Working\\nJupiter AI Lab Onsite- Noida\\n– Enhanced data visualization by designing dynamic dashboards and reports in Power BI, which led to improved data\\ninterpretation and actionable insights.\\n– Streamlined data workflows Automating routine data extraction and cleaning processes, resulting in a 40 percent\\nreduction in manual effort and increased efficiency .\\n– Applied statistical techniques and machine learning algorithms to analyze complex datasets, providing predictive\\ninsights and supporting strategic planning.\\n– Gained hands-on experience with model training, evaluation, and feature engineering, contributing to real-world\\nprojects and supporting data-driven decision-making.\\nEducation\\nDegree Institute Board / University CGPA/Percentage Year\\nB.Tech IT Rajkiya Engineering College, Azamgarh AKTU 7.0 CGPA 2024\\nSenior Secondary Bal Krishna I C Khatirpur, Ghazipur UP Board 75.20% 2019\\nMatriculation S R D A H S S Bhajayatilari, Ghazipur UP Board 84.12% 2017\\nProjects\\nOnline Written Examination System Using Machine Learning and Blockchain Mar 2024\\nMajor Project (B.tech)\\n– Implementing an Online Written Examination System using Blockchain and Machine Learning with the MERN stack ensures\\nsecure, tamper-proof exam records and intelligent evaluation.\\n– Blockchain guarantees data integrity, while ML algorithms enhance the evaluation process by providing smart analytics and\\npersonalized feedback.\\nHouse Price Prediction Aug 2024\\nReal Time Mini Project Github\\n– Data Preprocessing: Experience with data cleaning, normalization, feature engineering, and handling missing values.\\n– Model Selection and Evaluation: Various regression algorithms (linear , ridge, lasso, decision trees, random forests, etc.) and\\nevaluation metrics (MSE, RMSE, MAE, R-squared).\\nText Summrization Gen AI Project Feb 2025\\nMini Project Github\\n– Developed a text summarization model using transformers like BART/GPT to generate concise summaries from long-form\\ntext.\\n– Fine-tuned a pre-trained transformer model on a custom dataset to improve summarization quality.\\n– Model Evaluation: Performed evaluation using ROUGE and BLEU scores to measure summarization accuracy.')]"
      ]
     },
     "execution_count": 44,
     "metadata": {},
     "output_type": "execute_result"
    }
   ],
   "source": [
    "retrieved_docs"
   ]
  },
  {
   "cell_type": "code",
   "execution_count": 46,
   "metadata": {},
   "outputs": [
    {
     "data": {
      "text/plain": [
       "'Sandeep Kumar\\n♂phone9305525008 — /linkedinsandeepkumar — /githubSandeepk14 — /envel⌢peskraj5873@gmail.com — /user-circlePortfolio\\nSummary — Aspiring Data Scientist with practical experience in Machine Learning and Data Analysis. Gained hands-on\\nexpertise during a 6-month internship at Jupiter AI Lab, working with Python and its robust data libraries (Pandas, NumPy ,\\nMatplotlib, and Seaborn) for model building and EDA (Exploratory Data Analysis). Proficient in SQL, BI tools like Power BI,\\nand Excel for effective data management and visualization.\\nSkills\\nLanguages: Python,Java, SQL\\nLibraries: Pandas, NumPy , Matplotlib,SckiteLearn Seaborn, Flask, TensorFlow\\nGenerative AI: Hugging Face Transformers, LangChain, Rag, Fine Tunning, FastAPI\\nTools: Git, Github, Power BI, Excel, Vs Code, Anaconda, Jupyter Notebook, Google Colab\\nTechniques: ML, DL, Data Analysis, Model Building, EDA, Data Manipulation, Analyzing Large Datasets\\nSoft Skills: Communication Skills, Presentation Skills, Hard-Working, Problem-Solving\\nExperience\\nMachine Learning Intern Aug 2024 – Currently Working\\nJupiter AI Lab Onsite- Noida\\n– Enhanced data visualization by designing dynamic dashboards and reports in Power BI, which led to improved data\\ninterpretation and actionable insights.\\n– Streamlined data workflows Automating routine data extraction and cleaning processes, resulting in a 40 percent\\nreduction in manual effort and increased efficiency .\\n– Applied statistical techniques and machine learning algorithms to analyze complex datasets, providing predictive\\ninsights and supporting strategic planning.\\n– Gained hands-on experience with model training, evaluation, and feature engineering, contributing to real-world\\nprojects and supporting data-driven decision-making.\\nEducation\\nDegree Institute Board / University CGPA/Percentage Year\\nB.Tech IT Rajkiya Engineering College, Azamgarh AKTU 7.0 CGPA 2024\\nSenior Secondary Bal Krishna I C Khatirpur, Ghazipur UP Board 75.20% 2019\\nMatriculation S R D A H S S Bhajayatilari, Ghazipur UP Board 84.12% 2017\\nProjects\\nOnline Written Examination System Using Machine Learning and Blockchain Mar 2024\\nMajor Project (B.tech)\\n– Implementing an Online Written Examination System using Blockchain and Machine Learning with the MERN stack ensures\\nsecure, tamper-proof exam records and intelligent evaluation.\\n– Blockchain guarantees data integrity, while ML algorithms enhance the evaluation process by providing smart analytics and\\npersonalized feedback.\\nHouse Price Prediction Aug 2024\\nReal Time Mini Project Github\\n– Data Preprocessing: Experience with data cleaning, normalization, feature engineering, and handling missing values.\\n– Model Selection and Evaluation: Various regression algorithms (linear , ridge, lasso, decision trees, random forests, etc.) and\\nevaluation metrics (MSE, RMSE, MAE, R-squared).\\nText Summrization Gen AI Project Feb 2025\\nMini Project Github\\n– Developed a text summarization model using transformers like BART/GPT to generate concise summaries from long-form\\ntext.\\n– Fine-tuned a pre-trained transformer model on a custom dataset to improve summarization quality.\\n– Model Evaluation: Performed evaluation using ROUGE and BLEU scores to measure summarization accuracy.'"
      ]
     },
     "execution_count": 46,
     "metadata": {},
     "output_type": "execute_result"
    }
   ],
   "source": [
    "retrieved_docs[0].page_content\n"
   ]
  },
  {
   "cell_type": "code",
   "execution_count": 80,
   "metadata": {},
   "outputs": [],
   "source": [
    "# use llm model to generate answer\n",
    "from langchain_google_genai import ChatGoogleGenerativeAI\n",
    "llm = ChatGoogleGenerativeAI(\n",
    "    model=\"gemini-1.5-pro\",\n",
    "    temperature=0.01,\n",
    "    max_output_tokens=512,\n",
    ")"
   ]
  },
  {
   "cell_type": "code",
   "execution_count": 81,
   "metadata": {},
   "outputs": [],
   "source": [
    "\n",
    "\n",
    "# create chain\n",
    "from langchain.chains import create_retrieval_chain\n",
    "from langchain.chains.combine_documents import create_stuff_documents_chain\n",
    "\n",
    "from langchain_core.prompts import ChatPromptTemplate"
   ]
  },
  {
   "cell_type": "code",
   "execution_count": 82,
   "metadata": {},
   "outputs": [],
   "source": [
    "# create prompt\n",
    "prompt_template =( \"You are a helpful assistant. You will be provided with some context and a question.\"\n",
    "                   \"Use the context to answer the question.\"\n",
    "                   \"the questions. If you don't know the answer, just say 'I don't know'.\"\n",
    "                   \"use three sentences to answer the question.\"\n",
    "                   \"concise and clear answer.\"\n",
    "                   \"\\n\\n\"\n",
    "                   \"Context: {context}\"\n",
    ")\n"
   ]
  },
  {
   "cell_type": "code",
   "execution_count": 83,
   "metadata": {},
   "outputs": [],
   "source": [
    "prompt=ChatPromptTemplate.from_messages([(\"system\", prompt_template),\n",
    "                                         (\"human\", \"{input}\")])"
   ]
  },
  {
   "cell_type": "code",
   "execution_count": 84,
   "metadata": {},
   "outputs": [],
   "source": [
    "chain= create_stuff_documents_chain(llm=llm, prompt=prompt)\n"
   ]
  },
  {
   "cell_type": "code",
   "execution_count": 85,
   "metadata": {},
   "outputs": [],
   "source": [
    "rag_chain = create_retrieval_chain(\n",
    "    retriever=retriever,\n",
    "    combine_docs_chain=chain,\n",
    "    \n",
    ")"
   ]
  },
  {
   "cell_type": "code",
   "execution_count": 86,
   "metadata": {},
   "outputs": [
    {
     "name": "stderr",
     "output_type": "stream",
     "text": [
      "Number of requested results 10 is greater than number of elements in index 1, updating n_results = 1\n"
     ]
    }
   ],
   "source": [
    "response = rag_chain.invoke({\"input\": \"what is my name?\"})"
   ]
  },
  {
   "cell_type": "code",
   "execution_count": 88,
   "metadata": {},
   "outputs": [
    {
     "name": "stdout",
     "output_type": "stream",
     "text": [
      "Your name is Sandeep Kumar.  This is stated at the very beginning of the provided context. You also list your contact information and online presence.\n"
     ]
    }
   ],
   "source": [
    "print(response['answer'])"
   ]
  },
  {
   "cell_type": "code",
   "execution_count": null,
   "metadata": {},
   "outputs": [],
   "source": []
  },
  {
   "cell_type": "code",
   "execution_count": null,
   "metadata": {},
   "outputs": [],
   "source": []
  }
 ],
 "metadata": {
  "kernelspec": {
   "display_name": "Python 3",
   "language": "python",
   "name": "python3"
  },
  "language_info": {
   "codemirror_mode": {
    "name": "ipython",
    "version": 3
   },
   "file_extension": ".py",
   "mimetype": "text/x-python",
   "name": "python",
   "nbconvert_exporter": "python",
   "pygments_lexer": "ipython3",
   "version": "3.9.21"
  }
 },
 "nbformat": 4,
 "nbformat_minor": 2
}
